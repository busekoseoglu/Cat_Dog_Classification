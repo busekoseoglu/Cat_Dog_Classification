{
  "nbformat": 4,
  "nbformat_minor": 0,
  "metadata": {
    "colab": {
      "provenance": [],
      "authorship_tag": "ABX9TyO7gDYX+Fza693sLsGxBw73",
      "include_colab_link": true
    },
    "kernelspec": {
      "name": "python3",
      "display_name": "Python 3"
    },
    "language_info": {
      "name": "python"
    },
    "accelerator": "GPU",
    "gpuClass": "standard"
  },
  "cells": [
    {
      "cell_type": "markdown",
      "metadata": {
        "id": "view-in-github",
        "colab_type": "text"
      },
      "source": [
        "<a href=\"https://colab.research.google.com/github/busekoseoglu/Cat_Dog_Classification/blob/main/Cat_Dog_Classification.ipynb\" target=\"_parent\"><img src=\"https://colab.research.google.com/assets/colab-badge.svg\" alt=\"Open In Colab\"/></a>"
      ]
    },
    {
      "cell_type": "code",
      "source": [
        "!pip install visualkeras optuna"
      ],
      "metadata": {
        "colab": {
          "base_uri": "https://localhost:8080/"
        },
        "id": "J6eCZDSuDNta",
        "outputId": "62ec1730-a738-435e-cd6d-393099c118d9"
      },
      "execution_count": 1,
      "outputs": [
        {
          "output_type": "stream",
          "name": "stdout",
          "text": [
            "Looking in indexes: https://pypi.org/simple, https://us-python.pkg.dev/colab-wheels/public/simple/\n",
            "Collecting visualkeras\n",
            "  Downloading visualkeras-0.0.2-py3-none-any.whl (12 kB)\n",
            "Collecting optuna\n",
            "  Downloading optuna-3.0.5-py3-none-any.whl (348 kB)\n",
            "\u001b[K     |████████████████████████████████| 348 kB 21.5 MB/s \n",
            "\u001b[?25hRequirement already satisfied: pillow>=6.2.0 in /usr/local/lib/python3.8/dist-packages (from visualkeras) (7.1.2)\n",
            "Collecting aggdraw>=1.3.11\n",
            "  Downloading aggdraw-1.3.15-cp38-cp38-manylinux_2_17_x86_64.manylinux2014_x86_64.whl (992 kB)\n",
            "\u001b[K     |████████████████████████████████| 992 kB 68.6 MB/s \n",
            "\u001b[?25hRequirement already satisfied: numpy>=1.18.1 in /usr/local/lib/python3.8/dist-packages (from visualkeras) (1.21.6)\n",
            "Collecting alembic>=1.5.0\n",
            "  Downloading alembic-1.9.1-py3-none-any.whl (210 kB)\n",
            "\u001b[K     |████████████████████████████████| 210 kB 77.9 MB/s \n",
            "\u001b[?25hCollecting importlib-metadata<5.0.0\n",
            "  Downloading importlib_metadata-4.13.0-py3-none-any.whl (23 kB)\n",
            "Requirement already satisfied: sqlalchemy>=1.3.0 in /usr/local/lib/python3.8/dist-packages (from optuna) (1.4.45)\n",
            "Requirement already satisfied: scipy<1.9.0,>=1.7.0 in /usr/local/lib/python3.8/dist-packages (from optuna) (1.7.3)\n",
            "Requirement already satisfied: packaging>=20.0 in /usr/local/lib/python3.8/dist-packages (from optuna) (21.3)\n",
            "Collecting cliff\n",
            "  Downloading cliff-4.1.0-py3-none-any.whl (81 kB)\n",
            "\u001b[K     |████████████████████████████████| 81 kB 13.0 MB/s \n",
            "\u001b[?25hRequirement already satisfied: PyYAML in /usr/local/lib/python3.8/dist-packages (from optuna) (6.0)\n",
            "Requirement already satisfied: tqdm in /usr/local/lib/python3.8/dist-packages (from optuna) (4.64.1)\n",
            "Collecting colorlog\n",
            "  Downloading colorlog-6.7.0-py2.py3-none-any.whl (11 kB)\n",
            "Collecting cmaes>=0.8.2\n",
            "  Downloading cmaes-0.9.0-py3-none-any.whl (23 kB)\n",
            "Requirement already satisfied: importlib-resources in /usr/local/lib/python3.8/dist-packages (from alembic>=1.5.0->optuna) (5.10.1)\n",
            "Collecting Mako\n",
            "  Downloading Mako-1.2.4-py3-none-any.whl (78 kB)\n",
            "\u001b[K     |████████████████████████████████| 78 kB 9.1 MB/s \n",
            "\u001b[?25hRequirement already satisfied: zipp>=0.5 in /usr/local/lib/python3.8/dist-packages (from importlib-metadata<5.0.0->optuna) (3.11.0)\n",
            "Requirement already satisfied: pyparsing!=3.0.5,>=2.0.2 in /usr/local/lib/python3.8/dist-packages (from packaging>=20.0->optuna) (3.0.9)\n",
            "Requirement already satisfied: greenlet!=0.4.17 in /usr/local/lib/python3.8/dist-packages (from sqlalchemy>=1.3.0->optuna) (2.0.1)\n",
            "Collecting autopage>=0.4.0\n",
            "  Downloading autopage-0.5.1-py3-none-any.whl (29 kB)\n",
            "Collecting cmd2>=1.0.0\n",
            "  Downloading cmd2-2.4.2-py3-none-any.whl (147 kB)\n",
            "\u001b[K     |████████████████████████████████| 147 kB 78.6 MB/s \n",
            "\u001b[?25hRequirement already satisfied: PrettyTable>=0.7.2 in /usr/local/lib/python3.8/dist-packages (from cliff->optuna) (3.5.0)\n",
            "Collecting stevedore>=2.0.1\n",
            "  Downloading stevedore-4.1.1-py3-none-any.whl (50 kB)\n",
            "\u001b[K     |████████████████████████████████| 50 kB 8.4 MB/s \n",
            "\u001b[?25hCollecting pyperclip>=1.6\n",
            "  Downloading pyperclip-1.8.2.tar.gz (20 kB)\n",
            "Requirement already satisfied: attrs>=16.3.0 in /usr/local/lib/python3.8/dist-packages (from cmd2>=1.0.0->cliff->optuna) (22.1.0)\n",
            "Requirement already satisfied: wcwidth>=0.1.7 in /usr/local/lib/python3.8/dist-packages (from cmd2>=1.0.0->cliff->optuna) (0.2.5)\n",
            "Collecting pbr!=2.1.0,>=2.0.0\n",
            "  Downloading pbr-5.11.0-py2.py3-none-any.whl (112 kB)\n",
            "\u001b[K     |████████████████████████████████| 112 kB 73.3 MB/s \n",
            "\u001b[?25hRequirement already satisfied: MarkupSafe>=0.9.2 in /usr/local/lib/python3.8/dist-packages (from Mako->alembic>=1.5.0->optuna) (2.0.1)\n",
            "Building wheels for collected packages: pyperclip\n",
            "  Building wheel for pyperclip (setup.py) ... \u001b[?25l\u001b[?25hdone\n",
            "  Created wheel for pyperclip: filename=pyperclip-1.8.2-py3-none-any.whl size=11136 sha256=cef4a53a9b0ad7160a908d60ea2ef33b6d8864d3d249f65f7744c4aaeaba47c9\n",
            "  Stored in directory: /root/.cache/pip/wheels/7f/1a/65/84ff8c386bec21fca6d220ea1f5498a0367883a78dd5ba6122\n",
            "Successfully built pyperclip\n",
            "Installing collected packages: pyperclip, pbr, stevedore, Mako, importlib-metadata, cmd2, autopage, colorlog, cmaes, cliff, alembic, aggdraw, visualkeras, optuna\n",
            "  Attempting uninstall: importlib-metadata\n",
            "    Found existing installation: importlib-metadata 5.1.0\n",
            "    Uninstalling importlib-metadata-5.1.0:\n",
            "      Successfully uninstalled importlib-metadata-5.1.0\n",
            "Successfully installed Mako-1.2.4 aggdraw-1.3.15 alembic-1.9.1 autopage-0.5.1 cliff-4.1.0 cmaes-0.9.0 cmd2-2.4.2 colorlog-6.7.0 importlib-metadata-4.13.0 optuna-3.0.5 pbr-5.11.0 pyperclip-1.8.2 stevedore-4.1.1 visualkeras-0.0.2\n"
          ]
        }
      ]
    },
    {
      "cell_type": "code",
      "source": [
        "from google.colab import drive\n",
        "\n",
        "drive.mount(\"/content/gdrive\")"
      ],
      "metadata": {
        "colab": {
          "base_uri": "https://localhost:8080/"
        },
        "id": "okiGGzaEuto-",
        "outputId": "da5ac40f-7dd7-490d-d042-7418efa2aa6b"
      },
      "execution_count": 2,
      "outputs": [
        {
          "metadata": {
            "tags": null
          },
          "name": "stdout",
          "output_type": "stream",
          "text": [
            "Mounted at /content/gdrive\n"
          ]
        }
      ]
    },
    {
      "cell_type": "code",
      "source": [
        "%cd /content/gdrive/MyDrive/Projelerim/Huawei Image Classification"
      ],
      "metadata": {
        "colab": {
          "base_uri": "https://localhost:8080/"
        },
        "id": "xTHvN9QKu2wS",
        "outputId": "9cb94f24-2ad8-498e-c5b9-ebfe1bcc9471"
      },
      "execution_count": 5,
      "outputs": [
        {
          "output_type": "stream",
          "name": "stdout",
          "text": [
            "/content/gdrive/MyDrive/Projelerim/Huawei Image Classification\n"
          ]
        }
      ]
    },
    {
      "cell_type": "code",
      "source": [
        "%ls"
      ],
      "metadata": {
        "colab": {
          "base_uri": "https://localhost:8080/"
        },
        "id": "Fsz0F-1xu-Pr",
        "outputId": "147866a4-f8bc-4770-afc6-1069c88ff80a"
      },
      "execution_count": 6,
      "outputs": [
        {
          "output_type": "stream",
          "name": "stdout",
          "text": [
            "'Cat-Dog Sınıflandırma.ipynb'   \u001b[0m\u001b[01;34mtest_set\u001b[0m/   \u001b[01;34mtraining_set\u001b[0m/\n"
          ]
        }
      ]
    },
    {
      "cell_type": "code",
      "execution_count": 7,
      "metadata": {
        "id": "7LXj3Rs8uKLb"
      },
      "outputs": [],
      "source": [
        "import pandas as pd\n",
        "import matplotlib.pyplot as plt\n",
        "\n",
        "import visualkeras\n",
        "\n",
        "from tensorflow.keras.preprocessing.image import ImageDataGenerator, load_img\n",
        "import tensorflow as tf\n",
        "from tensorflow.keras.callbacks import EarlyStopping\n",
        "from tensorflow.keras.layers import Dense, Conv2D,  MaxPool2D, Flatten, GlobalAveragePooling2D,  BatchNormalization, Layer, Add\n",
        "from tensorflow.keras.models import Sequential\n",
        "from tensorflow.keras.models import Model\n",
        "from tensorflow.keras.optimizers import Adam,SGD,RMSprop\n",
        "\n",
        "import optuna\n",
        "import time"
      ]
    },
    {
      "cell_type": "code",
      "source": [
        "img_height, img_width =(300, 300)\n",
        "batch_size=32\n",
        "\n",
        "train_data_dir = \"training_set\"\n",
        "test_data_dir = \"test_set\"\n",
        "\n",
        "#horizontal_flip=True, width_shift_range=0.05,height_shift_range=0.05\n",
        "train_datagen = ImageDataGenerator(rescale = 1./255)\n",
        "test_datagen=ImageDataGenerator(rescale = 1./255)\n",
        "\n",
        "train_generator = train_datagen.flow_from_directory(train_data_dir,batch_size=batch_size, class_mode='categorical',target_size=(300, 300))     \n",
        "test_generator =  test_datagen.flow_from_directory(test_data_dir,batch_size=batch_size, class_mode='categorical',target_size = (300, 300))                                                \n"
      ],
      "metadata": {
        "colab": {
          "base_uri": "https://localhost:8080/"
        },
        "id": "Ftf2r09suQyb",
        "outputId": "36e4fd29-78e5-4afe-8b81-7e28db0f37e7"
      },
      "execution_count": 8,
      "outputs": [
        {
          "output_type": "stream",
          "name": "stdout",
          "text": [
            "Found 1600 images belonging to 2 classes.\n",
            "Found 400 images belonging to 2 classes.\n"
          ]
        }
      ]
    },
    {
      "cell_type": "code",
      "source": [
        "NUM_CLASSES = 2\n",
        "BATCH_SIZE = 16\n",
        "EPOCHS = 100"
      ],
      "metadata": {
        "id": "nvwwjlCz8Fr3"
      },
      "execution_count": 9,
      "outputs": []
    },
    {
      "cell_type": "markdown",
      "source": [
        "# Model 1"
      ],
      "metadata": {
        "id": "gZPb-5PZn8Em"
      }
    },
    {
      "cell_type": "code",
      "source": [
        "model1 = tf.keras.models.Sequential([\n",
        "        tf.keras.layers.Conv2D(32, (3,3), activation='relu', input_shape=(img_height, img_width, 3)),\n",
        "        tf.keras.layers.LeakyReLU(alpha=0.3),\n",
        "        tf.keras.layers.MaxPooling2D(2,2),\n",
        "\n",
        "        tf.keras.layers.Conv2D(64, (3,3), activation='relu'),\n",
        "        tf.keras.layers.LeakyReLU(alpha=0.3),\n",
        "        tf.keras.layers.MaxPooling2D(2,2), \n",
        "        tf.keras.layers.Dropout(0.2),\n",
        "        \n",
        "        tf.keras.layers.Flatten(), \n",
        "        tf.keras.layers.Dense(32, activation=\"relu\"),\n",
        "        tf.keras.layers.Dropout(0.2),\n",
        "        tf.keras.layers.Dense(NUM_CLASSES, activation=\"softmax\")\n",
        "    ])\n",
        "\n",
        "callback = tf.keras.callbacks.EarlyStopping(monitor='val_loss', patience=3, mode='min')\n",
        "# This callback will stop the training when there is no improvement in\n",
        "# the loss for three consecutive epochs.\n",
        "\n",
        "model1.compile(\n",
        "    loss=\"categorical_crossentropy\",\n",
        "    optimizer=tf.keras.optimizers.Adam(),\n",
        "    metrics=[\"accuracy\"])\n",
        "\n",
        "history = model1.fit(train_generator,\n",
        "                      batch_size=BATCH_SIZE,\n",
        "                      epochs=EPOCHS,\n",
        "                      validation_data=test_generator,\n",
        "                      callbacks=[callback],\n",
        "                      shuffle=True)"
      ],
      "metadata": {
        "colab": {
          "base_uri": "https://localhost:8080/"
        },
        "id": "gp_ErGsVvZ2J",
        "outputId": "fa76a3d6-867a-47e7-f32f-f2c8c2fbd054"
      },
      "execution_count": null,
      "outputs": [
        {
          "output_type": "stream",
          "name": "stdout",
          "text": [
            "Epoch 1/100\n",
            "50/50 [==============================] - 17s 331ms/step - loss: 1.0849 - accuracy: 0.5006 - val_loss: 0.6924 - val_accuracy: 0.5700\n",
            "Epoch 2/100\n",
            "50/50 [==============================] - 11s 216ms/step - loss: 0.6899 - accuracy: 0.5581 - val_loss: 0.6868 - val_accuracy: 0.5700\n",
            "Epoch 3/100\n",
            "50/50 [==============================] - 11s 215ms/step - loss: 0.6607 - accuracy: 0.6169 - val_loss: 0.6753 - val_accuracy: 0.5950\n",
            "Epoch 4/100\n",
            "50/50 [==============================] - 11s 215ms/step - loss: 0.5262 - accuracy: 0.7425 - val_loss: 0.6768 - val_accuracy: 0.6275\n",
            "Epoch 5/100\n",
            "50/50 [==============================] - 11s 213ms/step - loss: 0.3672 - accuracy: 0.8556 - val_loss: 0.7389 - val_accuracy: 0.6025\n",
            "Epoch 6/100\n",
            "50/50 [==============================] - 12s 234ms/step - loss: 0.2278 - accuracy: 0.9225 - val_loss: 0.9167 - val_accuracy: 0.6050\n"
          ]
        }
      ]
    },
    {
      "cell_type": "code",
      "source": [
        "plt.plot(history.history['loss'])\n",
        "plt.plot(history.history['val_loss'])\n",
        "plt.title('model loss')\n",
        "plt.ylabel('loss')\n",
        "plt.xlabel('epoch')\n",
        "plt.legend(['train', 'val'], loc='upper left')\n",
        "plt.show()"
      ],
      "metadata": {
        "colab": {
          "base_uri": "https://localhost:8080/",
          "height": 295
        },
        "id": "kf9lbtOo8tj-",
        "outputId": "18e10d81-1ed2-47fd-af45-e39e5c780b91"
      },
      "execution_count": null,
      "outputs": [
        {
          "output_type": "display_data",
          "data": {
            "text/plain": [
              "<Figure size 432x288 with 1 Axes>"
            ],
            "image/png": "[encoded data removed]"
          },
          "metadata": {
            "needs_background": "light"
          }
        }
      ]
    },
    {
      "cell_type": "code",
      "source": [
        "visualkeras.layered_view(model1,legend=True, draw_volume=True)"
      ],
      "metadata": {
        "colab": {
          "base_uri": "https://localhost:8080/",
          "height": 1000
        },
        "id": "nVdPsFNkDHCj",
        "outputId": "4087cd98-ff18-48d4-b87e-d019a7f3f6d2"
      },
      "execution_count": null,
      "outputs": [
        {
          "output_type": "execute_result",
          "data": {
            "text/plain": [
              "<PIL.Image.Image image mode=RGBA size=922x1626 at 0x7FC03E5D1E80>"
            ],
            "image/png": "[encoded data removed]"
          },
          "metadata": {},
          "execution_count": 69
        }
      ]
    },
    {
      "cell_type": "markdown",
      "source": [
        "## 5 Fold Cross Validation with Optuna (Model 1)"
      ],
      "metadata": {
        "id": "MlPt3Wn4oB_F"
      }
    },
    {
      "cell_type": "code",
      "source": [
        "n_train_iter = 1\n",
        "def objective(trial):\n",
        "    # Parameters\n",
        "    batch_size = trial.suggest_int(\"batch_size\", 2, 8, step=2)\n",
        "    epochs = trial.suggest_int(\"epochs\", 10,50, step=10)\n",
        "    lr = trial.suggest_float(\"learning_rate\", 1e-5, 1e-2, log=True)\n",
        "    opt = trial.suggest_categorical(\"optimizer\", [Adam, SGD, RMSprop])\n",
        "\n",
        "    # Model\n",
        "    model1 = tf.keras.models.Sequential([\n",
        "        tf.keras.layers.Conv2D(32, (3,3), activation='relu', input_shape=(img_height, img_width, 3)),\n",
        "        tf.keras.layers.LeakyReLU(alpha=0.3),\n",
        "        tf.keras.layers.MaxPooling2D(2,2),\n",
        "\n",
        "        tf.keras.layers.Conv2D(64, (3,3), activation='relu'),\n",
        "        tf.keras.layers.LeakyReLU(alpha=0.3),\n",
        "        tf.keras.layers.MaxPooling2D(2,2), \n",
        "        tf.keras.layers.Dropout(0.2),\n",
        "        \n",
        "        tf.keras.layers.Flatten(), \n",
        "        tf.keras.layers.Dense(32, activation=\"relu\"),\n",
        "        tf.keras.layers.Dropout(0.2),\n",
        "        tf.keras.layers.Dense(NUM_CLASSES, activation=\"softmax\")\n",
        "    ])\n",
        "    for step in range(n_train_iter):\n",
        "        callback = tf.keras.callbacks.EarlyStopping(monitor='val_loss', patience=3, mode='min')\n",
        "        model1.compile(optimizer=opt(lr=lr), loss='categorical_crossentropy', metrics=['accuracy'])\n",
        "        H = model1.fit(train_generator,batch_size=batch_size,callbacks=[callback],\n",
        "                epochs=epochs,validation_data=test_generator,shuffle=True)\n",
        "        \n",
        "        val_loss, val_acc = model1.evaluate(test_generator)\n",
        "        trial.report(val_acc, step)\n",
        "\n",
        "        if trial.should_prune():\n",
        "            raise optuna.TrialPruned()\n",
        "    \n",
        "    return val_loss # optuna değerlendirmesini en küçük değere göre yapıyor o yüzden loss döndürdüm. Accuracy döndürdüğümde acc büyüdükçe bunu kötü bir şeymiş gibi algıladı.\n",
        "\n",
        "\n",
        "# Default Sampler is Tree-structured Parzen Estimator algorithm\n",
        "\n",
        "study = optuna.create_study()  # Create a new study.\n",
        "start = time.time()\n",
        "study.optimize(objective, n_trials=5)\n",
        "end = time.time()"
      ],
      "metadata": {
        "colab": {
          "base_uri": "https://localhost:8080/"
        },
        "id": "hl1Zde8KnRjO",
        "outputId": "a351fc38-8ddb-4c65-89be-e36aaef30803"
      },
      "execution_count": null,
      "outputs": [
        {
          "output_type": "stream",
          "name": "stderr",
          "text": [
            "\u001b[32m[I 2022-12-25 11:35:34,620]\u001b[0m A new study created in memory with name: no-name-90af2c92-b3c6-4418-aebb-3d87f9380a74\u001b[0m\n"
          ]
        },
        {
          "output_type": "stream",
          "name": "stdout",
          "text": [
            "Epoch 1/40\n",
            "50/50 [==============================] - 11s 220ms/step - loss: 0.6938 - accuracy: 0.5156 - val_loss: 0.6874 - val_accuracy: 0.5375\n",
            "Epoch 2/40\n",
            "50/50 [==============================] - ETA: 0s - loss: 0.6923 - accuracy: 0.5206Epoch 3/40\n",
            "50/50 [==============================] - 12s 241ms/step - loss: 0.6937 - accuracy: 0.5288 - val_loss: 0.6859 - val_accuracy: 0.5475\n",
            "Epoch 4/40\n",
            "50/50 [==============================] - 11s 214ms/step - loss: 0.6887 - accuracy: 0.5250 - val_loss: 0.6844 - val_accuracy: 0.5525\n",
            "Epoch 5/40\n",
            "50/50 [==============================] - 11s 212ms/step - loss: 0.6876 - accuracy: 0.5437 - val_loss: 0.6873 - val_accuracy: 0.5400\n",
            "Epoch 6/40\n",
            "50/50 [==============================] - 11s 212ms/step - loss: 0.6894 - accuracy: 0.5306 - val_loss: 0.6839 - val_accuracy: 0.5450\n",
            "Epoch 7/40\n",
            "50/50 [==============================] - 11s 212ms/step - loss: 0.6869 - accuracy: 0.5412 - val_loss: 0.6820 - val_accuracy: 0.5625\n",
            "Epoch 8/40\n",
            "50/50 [==============================] - 11s 211ms/step - loss: 0.6865 - accuracy: 0.5494 - val_loss: 0.6827 - val_accuracy: 0.5400\n",
            "Epoch 9/40\n",
            "50/50 [==============================] - 11s 213ms/step - loss: 0.6827 - accuracy: 0.5619 - val_loss: 0.6792 - val_accuracy: 0.5850\n",
            "Epoch 10/40\n",
            "50/50 [==============================] - 11s 210ms/step - loss: 0.6857 - accuracy: 0.5456 - val_loss: 0.6773 - val_accuracy: 0.5925\n",
            "Epoch 11/40\n",
            "50/50 [==============================] - 11s 210ms/step - loss: 0.6769 - accuracy: 0.5738 - val_loss: 0.6771 - val_accuracy: 0.5825\n",
            "Epoch 12/40\n",
            "50/50 [==============================] - 11s 210ms/step - loss: 0.6817 - accuracy: 0.5700 - val_loss: 0.6765 - val_accuracy: 0.5800\n",
            "Epoch 13/40\n",
            "50/50 [==============================] - 11s 211ms/step - loss: 0.6799 - accuracy: 0.5763 - val_loss: 0.6748 - val_accuracy: 0.5975\n",
            "Epoch 14/40\n",
            "50/50 [==============================] - 11s 210ms/step - loss: 0.6748 - accuracy: 0.5888 - val_loss: 0.6747 - val_accuracy: 0.5875\n",
            "Epoch 15/40\n",
            "50/50 [==============================] - 11s 211ms/step - loss: 0.6750 - accuracy: 0.5806 - val_loss: 0.6740 - val_accuracy: 0.5875\n",
            "Epoch 16/40\n",
            "50/50 [==============================] - 10s 208ms/step - loss: 0.6756 - accuracy: 0.5781 - val_loss: 0.6758 - val_accuracy: 0.5600\n",
            "Epoch 17/40\n",
            "50/50 [==============================] - 11s 222ms/step - loss: 0.6756 - accuracy: 0.5894 - val_loss: 0.6720 - val_accuracy: 0.5950\n",
            "Epoch 18/40\n",
            "50/50 [==============================] - 11s 210ms/step - loss: 0.6734 - accuracy: 0.5888 - val_loss: 0.6715 - val_accuracy: 0.5775\n",
            "Epoch 19/40\n",
            "50/50 [==============================] - 10s 208ms/step - loss: 0.6764 - accuracy: 0.5713 - val_loss: 0.6746 - val_accuracy: 0.5700\n",
            "Epoch 20/40\n",
            "50/50 [==============================] - 10s 208ms/step - loss: 0.6708 - accuracy: 0.5750 - val_loss: 0.6709 - val_accuracy: 0.5950\n",
            "Epoch 21/40\n",
            "50/50 [==============================] - 11s 211ms/step - loss: 0.6759 - accuracy: 0.5763 - val_loss: 0.6712 - val_accuracy: 0.5800\n",
            "Epoch 22/40\n",
            "50/50 [==============================] - 11s 210ms/step - loss: 0.6696 - accuracy: 0.5913 - val_loss: 0.6742 - val_accuracy: 0.5675\n",
            "Epoch 23/40\n",
            "50/50 [==============================] - 11s 210ms/step - loss: 0.6678 - accuracy: 0.5956 - val_loss: 0.6700 - val_accuracy: 0.5700\n",
            "Epoch 24/40\n",
            "50/50 [==============================] - 11s 209ms/step - loss: 0.6653 - accuracy: 0.5913 - val_loss: 0.6692 - val_accuracy: 0.5925\n",
            "Epoch 25/40\n",
            "50/50 [==============================] - 10s 209ms/step - loss: 0.6661 - accuracy: 0.5913 - val_loss: 0.6664 - val_accuracy: 0.6175\n",
            "Epoch 26/40\n",
            "50/50 [==============================] - 11s 211ms/step - loss: 0.6657 - accuracy: 0.5994 - val_loss: 0.6673 - val_accuracy: 0.5950\n",
            "Epoch 27/40\n",
            "50/50 [==============================] - 11s 209ms/step - loss: 0.6687 - accuracy: 0.5850 - val_loss: 0.6659 - val_accuracy: 0.6000\n",
            "Epoch 28/40\n",
            "50/50 [==============================] - 10s 208ms/step - loss: 0.6630 - accuracy: 0.6031 - val_loss: 0.6656 - val_accuracy: 0.5800\n",
            "Epoch 29/40\n",
            "50/50 [==============================] - 11s 209ms/step - loss: 0.6662 - accuracy: 0.5781 - val_loss: 0.6649 - val_accuracy: 0.6000\n",
            "Epoch 30/40\n",
            "50/50 [==============================] - 11s 210ms/step - loss: 0.6624 - accuracy: 0.6081 - val_loss: 0.6645 - val_accuracy: 0.6075\n",
            "Epoch 31/40\n",
            "50/50 [==============================] - 11s 225ms/step - loss: 0.6642 - accuracy: 0.6006 - val_loss: 0.6631 - val_accuracy: 0.6125\n",
            "Epoch 32/40\n",
            "50/50 [==============================] - 11s 213ms/step - loss: 0.6594 - accuracy: 0.6056 - val_loss: 0.6636 - val_accuracy: 0.6000\n",
            "Epoch 33/40\n",
            "50/50 [==============================] - 11s 214ms/step - loss: 0.6571 - accuracy: 0.6137 - val_loss: 0.6616 - val_accuracy: 0.6150\n",
            "Epoch 34/40\n",
            "50/50 [==============================] - 10s 209ms/step - loss: 0.6629 - accuracy: 0.6087 - val_loss: 0.6618 - val_accuracy: 0.6050\n",
            "Epoch 35/40\n",
            "50/50 [==============================] - 11s 211ms/step - loss: 0.6595 - accuracy: 0.6156 - val_loss: 0.6622 - val_accuracy: 0.5850\n",
            "Epoch 36/40\n",
            "50/50 [==============================] - 11s 209ms/step - loss: 0.6628 - accuracy: 0.6006 - val_loss: 0.6612 - val_accuracy: 0.6175\n",
            "Epoch 37/40\n",
            "50/50 [==============================] - 10s 207ms/step - loss: 0.6591 - accuracy: 0.6044 - val_loss: 0.6608 - val_accuracy: 0.6075\n",
            "Epoch 38/40\n",
            "50/50 [==============================] - 11s 211ms/step - loss: 0.6590 - accuracy: 0.6181 - val_loss: 0.6626 - val_accuracy: 0.5800\n",
            "Epoch 39/40\n",
            "50/50 [==============================] - 10s 209ms/step - loss: 0.6547 - accuracy: 0.6106 - val_loss: 0.6605 - val_accuracy: 0.6075\n",
            "Epoch 40/40\n",
            "50/50 [==============================] - 11s 210ms/step - loss: 0.6527 - accuracy: 0.6169 - val_loss: 0.6603 - val_accuracy: 0.6050\n",
            "13/13 [==============================] - 2s 149ms/step - loss: 0.6603 - accuracy: 0.6050\n"
          ]
        },
        {
          "output_type": "stream",
          "name": "stderr",
          "text": [
            "\u001b[32m[I 2022-12-25 11:42:53,487]\u001b[0m Trial 0 finished with value: 0.6602802276611328 and parameters: {'batch_size': 8, 'epochs': 40, 'learning_rate': 9.509560981225496e-05, 'optimizer': <class 'keras.optimizers.optimizer_v2.gradient_descent.SGD'>}. Best is trial 0 with value: 0.6602802276611328.\u001b[0m\n"
          ]
        },
        {
          "output_type": "stream",
          "name": "stdout",
          "text": [
            "Epoch 1/20\n",
            "50/50 [==============================] - 11s 214ms/step - loss: 0.6935 - accuracy: 0.5231 - val_loss: 0.6924 - val_accuracy: 0.5325\n",
            "Epoch 2/20\n",
            "50/50 [==============================] - 11s 211ms/step - loss: 0.6914 - accuracy: 0.5288 - val_loss: 0.6838 - val_accuracy: 0.5625\n",
            "Epoch 3/20\n",
            "50/50 [==============================] - 11s 213ms/step - loss: 0.6858 - accuracy: 0.5475 - val_loss: 0.6811 - val_accuracy: 0.5850\n",
            "Epoch 4/20\n",
            "50/50 [==============================] - 11s 210ms/step - loss: 0.6777 - accuracy: 0.5700 - val_loss: 0.6797 - val_accuracy: 0.5800\n",
            "Epoch 5/20\n",
            "50/50 [==============================] - 11s 210ms/step - loss: 0.6810 - accuracy: 0.5738 - val_loss: 0.6817 - val_accuracy: 0.5550\n",
            "Epoch 6/20\n",
            "50/50 [==============================] - 11s 210ms/step - loss: 0.6770 - accuracy: 0.5744 - val_loss: 0.6746 - val_accuracy: 0.5850\n",
            "Epoch 7/20\n",
            "50/50 [==============================] - 11s 209ms/step - loss: 0.6705 - accuracy: 0.5838 - val_loss: 0.6697 - val_accuracy: 0.6050\n",
            "Epoch 8/20\n",
            "50/50 [==============================] - 10s 208ms/step - loss: 0.6726 - accuracy: 0.5763 - val_loss: 0.6688 - val_accuracy: 0.6075\n",
            "Epoch 9/20\n",
            "50/50 [==============================] - 11s 209ms/step - loss: 0.6669 - accuracy: 0.5919 - val_loss: 0.6705 - val_accuracy: 0.5975\n",
            "Epoch 10/20\n",
            "50/50 [==============================] - 11s 213ms/step - loss: 0.6650 - accuracy: 0.5969 - val_loss: 0.6672 - val_accuracy: 0.6000\n",
            "Epoch 11/20\n",
            "50/50 [==============================] - 10s 209ms/step - loss: 0.6622 - accuracy: 0.6075 - val_loss: 0.6679 - val_accuracy: 0.5850\n",
            "Epoch 12/20\n",
            "50/50 [==============================] - 11s 211ms/step - loss: 0.6578 - accuracy: 0.6237 - val_loss: 0.6665 - val_accuracy: 0.5850\n",
            "Epoch 13/20\n",
            "50/50 [==============================] - 11s 210ms/step - loss: 0.6532 - accuracy: 0.6112 - val_loss: 0.6612 - val_accuracy: 0.6275\n",
            "Epoch 14/20\n",
            "50/50 [==============================] - 10s 209ms/step - loss: 0.6520 - accuracy: 0.6288 - val_loss: 0.6644 - val_accuracy: 0.5800\n",
            "Epoch 15/20\n",
            "50/50 [==============================] - 11s 210ms/step - loss: 0.6530 - accuracy: 0.6288 - val_loss: 0.6667 - val_accuracy: 0.5775\n",
            "Epoch 16/20\n",
            "50/50 [==============================] - 11s 225ms/step - loss: 0.6408 - accuracy: 0.6381 - val_loss: 0.6736 - val_accuracy: 0.5750\n",
            "13/13 [==============================] - 2s 148ms/step - loss: 0.6736 - accuracy: 0.5750\n"
          ]
        },
        {
          "output_type": "stream",
          "name": "stderr",
          "text": [
            "\u001b[32m[I 2022-12-25 11:46:05,893]\u001b[0m Trial 1 finished with value: 0.6735613346099854 and parameters: {'batch_size': 4, 'epochs': 20, 'learning_rate': 0.0011985559962482651, 'optimizer': <class 'keras.optimizers.optimizer_v2.gradient_descent.SGD'>}. Best is trial 0 with value: 0.6602802276611328.\u001b[0m\n"
          ]
        },
        {
          "output_type": "stream",
          "name": "stdout",
          "text": [
            "Epoch 1/30\n",
            "50/50 [==============================] - 11s 216ms/step - loss: 0.7509 - accuracy: 0.5244 - val_loss: 0.6915 - val_accuracy: 0.5750\n",
            "Epoch 2/30\n",
            "50/50 [==============================] - 11s 212ms/step - loss: 0.6917 - accuracy: 0.5194 - val_loss: 0.6886 - val_accuracy: 0.5175\n",
            "Epoch 3/30\n",
            "50/50 [==============================] - 11s 212ms/step - loss: 0.6882 - accuracy: 0.5475 - val_loss: 0.6862 - val_accuracy: 0.5225\n",
            "Epoch 4/30\n",
            "50/50 [==============================] - 11s 212ms/step - loss: 0.6861 - accuracy: 0.5550 - val_loss: 0.6868 - val_accuracy: 0.5800\n",
            "Epoch 5/30\n",
            "50/50 [==============================] - 11s 211ms/step - loss: 0.6846 - accuracy: 0.5519 - val_loss: 0.6833 - val_accuracy: 0.5700\n",
            "Epoch 6/30\n",
            "50/50 [==============================] - 11s 210ms/step - loss: 0.6831 - accuracy: 0.5500 - val_loss: 0.6844 - val_accuracy: 0.5625\n",
            "Epoch 7/30\n",
            "50/50 [==============================] - 11s 212ms/step - loss: 0.6824 - accuracy: 0.5619 - val_loss: 0.6834 - val_accuracy: 0.5675\n",
            "Epoch 8/30\n",
            "50/50 [==============================] - 11s 210ms/step - loss: 0.6818 - accuracy: 0.5531 - val_loss: 0.6813 - val_accuracy: 0.5725\n",
            "Epoch 9/30\n",
            "50/50 [==============================] - 10s 208ms/step - loss: 0.6819 - accuracy: 0.5519 - val_loss: 0.6816 - val_accuracy: 0.5725\n",
            "Epoch 10/30\n",
            "50/50 [==============================] - 11s 212ms/step - loss: 0.6787 - accuracy: 0.5663 - val_loss: 0.6806 - val_accuracy: 0.5725\n",
            "Epoch 11/30\n",
            "50/50 [==============================] - 11s 210ms/step - loss: 0.6780 - accuracy: 0.5688 - val_loss: 0.6794 - val_accuracy: 0.5675\n",
            "Epoch 12/30\n",
            "50/50 [==============================] - 11s 211ms/step - loss: 0.6760 - accuracy: 0.5681 - val_loss: 0.6786 - val_accuracy: 0.5875\n",
            "Epoch 13/30\n",
            "50/50 [==============================] - 11s 211ms/step - loss: 0.6784 - accuracy: 0.5644 - val_loss: 0.6792 - val_accuracy: 0.5800\n",
            "Epoch 14/30\n",
            "50/50 [==============================] - 11s 227ms/step - loss: 0.6741 - accuracy: 0.5825 - val_loss: 0.6795 - val_accuracy: 0.5850\n",
            "Epoch 15/30\n",
            "50/50 [==============================] - 11s 211ms/step - loss: 0.6747 - accuracy: 0.5794 - val_loss: 0.6785 - val_accuracy: 0.5900\n",
            "Epoch 16/30\n",
            "50/50 [==============================] - 11s 210ms/step - loss: 0.6711 - accuracy: 0.5825 - val_loss: 0.6775 - val_accuracy: 0.5825\n",
            "Epoch 17/30\n",
            "50/50 [==============================] - 10s 208ms/step - loss: 0.6723 - accuracy: 0.5831 - val_loss: 0.6760 - val_accuracy: 0.5875\n",
            "Epoch 18/30\n",
            "50/50 [==============================] - 10s 209ms/step - loss: 0.6719 - accuracy: 0.5781 - val_loss: 0.6762 - val_accuracy: 0.5850\n",
            "Epoch 19/30\n",
            "50/50 [==============================] - 10s 208ms/step - loss: 0.6691 - accuracy: 0.5888 - val_loss: 0.6767 - val_accuracy: 0.5925\n",
            "Epoch 20/30\n",
            "50/50 [==============================] - 11s 211ms/step - loss: 0.6664 - accuracy: 0.5906 - val_loss: 0.6757 - val_accuracy: 0.5975\n",
            "Epoch 21/30\n",
            "50/50 [==============================] - 11s 210ms/step - loss: 0.6705 - accuracy: 0.5794 - val_loss: 0.6785 - val_accuracy: 0.5800\n",
            "Epoch 22/30\n",
            "50/50 [==============================] - 10s 208ms/step - loss: 0.6676 - accuracy: 0.5838 - val_loss: 0.6749 - val_accuracy: 0.5775\n",
            "Epoch 23/30\n",
            "50/50 [==============================] - 10s 208ms/step - loss: 0.6650 - accuracy: 0.5981 - val_loss: 0.6750 - val_accuracy: 0.5925\n",
            "Epoch 24/30\n",
            "50/50 [==============================] - 11s 212ms/step - loss: 0.6640 - accuracy: 0.6037 - val_loss: 0.6816 - val_accuracy: 0.5600\n",
            "Epoch 25/30\n",
            "50/50 [==============================] - 11s 209ms/step - loss: 0.6590 - accuracy: 0.5962 - val_loss: 0.6778 - val_accuracy: 0.5700\n",
            "13/13 [==============================] - 2s 151ms/step - loss: 0.6778 - accuracy: 0.5700\n"
          ]
        },
        {
          "output_type": "stream",
          "name": "stderr",
          "text": [
            "\u001b[32m[I 2022-12-25 11:50:44,143]\u001b[0m Trial 2 finished with value: 0.677811861038208 and parameters: {'batch_size': 4, 'epochs': 30, 'learning_rate': 3.559008603199205e-05, 'optimizer': <class 'keras.optimizers.optimizer_v2.rmsprop.RMSprop'>}. Best is trial 0 with value: 0.6602802276611328.\u001b[0m\n"
          ]
        },
        {
          "output_type": "stream",
          "name": "stdout",
          "text": [
            "Epoch 1/30\n",
            "50/50 [==============================] - 11s 221ms/step - loss: 0.6962 - accuracy: 0.4931 - val_loss: 0.6957 - val_accuracy: 0.4950\n",
            "Epoch 2/30\n",
            "50/50 [==============================] - 10s 207ms/step - loss: 0.6921 - accuracy: 0.5312 - val_loss: 0.6949 - val_accuracy: 0.4975\n",
            "Epoch 3/30\n",
            "50/50 [==============================] - 10s 209ms/step - loss: 0.6939 - accuracy: 0.5250 - val_loss: 0.6944 - val_accuracy: 0.5000\n",
            "Epoch 4/30\n",
            "50/50 [==============================] - 10s 209ms/step - loss: 0.6969 - accuracy: 0.4969 - val_loss: 0.6937 - val_accuracy: 0.5025\n",
            "Epoch 5/30\n",
            "50/50 [==============================] - 11s 212ms/step - loss: 0.6934 - accuracy: 0.5188 - val_loss: 0.6930 - val_accuracy: 0.5275\n",
            "Epoch 6/30\n",
            "50/50 [==============================] - 10s 208ms/step - loss: 0.6958 - accuracy: 0.5013 - val_loss: 0.6925 - val_accuracy: 0.5125\n",
            "Epoch 7/30\n",
            "50/50 [==============================] - 11s 210ms/step - loss: 0.6920 - accuracy: 0.5125 - val_loss: 0.6920 - val_accuracy: 0.5000\n",
            "Epoch 8/30\n",
            "50/50 [==============================] - 11s 209ms/step - loss: 0.6905 - accuracy: 0.5225 - val_loss: 0.6917 - val_accuracy: 0.5300\n",
            "Epoch 9/30\n",
            "50/50 [==============================] - 10s 207ms/step - loss: 0.6905 - accuracy: 0.5425 - val_loss: 0.6913 - val_accuracy: 0.5300\n",
            "Epoch 10/30\n",
            "50/50 [==============================] - 10s 208ms/step - loss: 0.6888 - accuracy: 0.5525 - val_loss: 0.6909 - val_accuracy: 0.5425\n",
            "Epoch 11/30\n",
            "50/50 [==============================] - 10s 209ms/step - loss: 0.6918 - accuracy: 0.5150 - val_loss: 0.6905 - val_accuracy: 0.5400\n",
            "Epoch 12/30\n",
            "50/50 [==============================] - 10s 206ms/step - loss: 0.6914 - accuracy: 0.5188 - val_loss: 0.6902 - val_accuracy: 0.5375\n",
            "Epoch 13/30\n",
            "50/50 [==============================] - 10s 207ms/step - loss: 0.6918 - accuracy: 0.5206 - val_loss: 0.6899 - val_accuracy: 0.5375\n",
            "Epoch 14/30\n",
            "50/50 [==============================] - 11s 227ms/step - loss: 0.6877 - accuracy: 0.5400 - val_loss: 0.6895 - val_accuracy: 0.5450\n",
            "Epoch 15/30\n",
            "50/50 [==============================] - 10s 207ms/step - loss: 0.6887 - accuracy: 0.5456 - val_loss: 0.6890 - val_accuracy: 0.5475\n",
            "Epoch 16/30\n",
            "50/50 [==============================] - 10s 208ms/step - loss: 0.6870 - accuracy: 0.5494 - val_loss: 0.6886 - val_accuracy: 0.5500\n",
            "Epoch 17/30\n",
            "50/50 [==============================] - 10s 207ms/step - loss: 0.6882 - accuracy: 0.5512 - val_loss: 0.6882 - val_accuracy: 0.5625\n",
            "Epoch 18/30\n",
            "50/50 [==============================] - 10s 208ms/step - loss: 0.6904 - accuracy: 0.5444 - val_loss: 0.6879 - val_accuracy: 0.5550\n",
            "Epoch 19/30\n",
            "50/50 [==============================] - 10s 208ms/step - loss: 0.6865 - accuracy: 0.5544 - val_loss: 0.6876 - val_accuracy: 0.5600\n",
            "Epoch 20/30\n",
            "50/50 [==============================] - 10s 209ms/step - loss: 0.6872 - accuracy: 0.5344 - val_loss: 0.6874 - val_accuracy: 0.5625\n",
            "Epoch 21/30\n",
            "50/50 [==============================] - 10s 207ms/step - loss: 0.6869 - accuracy: 0.5381 - val_loss: 0.6874 - val_accuracy: 0.5500\n",
            "Epoch 22/30\n",
            "50/50 [==============================] - 11s 210ms/step - loss: 0.6889 - accuracy: 0.5412 - val_loss: 0.6872 - val_accuracy: 0.5375\n",
            "Epoch 23/30\n",
            "50/50 [==============================] - 10s 208ms/step - loss: 0.6881 - accuracy: 0.5394 - val_loss: 0.6869 - val_accuracy: 0.5425\n",
            "Epoch 24/30\n",
            "50/50 [==============================] - 10s 209ms/step - loss: 0.6831 - accuracy: 0.5663 - val_loss: 0.6863 - val_accuracy: 0.5650\n",
            "Epoch 25/30\n",
            "50/50 [==============================] - 10s 209ms/step - loss: 0.6873 - accuracy: 0.5506 - val_loss: 0.6861 - val_accuracy: 0.5600\n",
            "Epoch 26/30\n",
            "50/50 [==============================] - 10s 207ms/step - loss: 0.6832 - accuracy: 0.5631 - val_loss: 0.6858 - val_accuracy: 0.5550\n",
            "Epoch 27/30\n",
            "50/50 [==============================] - 10s 207ms/step - loss: 0.6862 - accuracy: 0.5494 - val_loss: 0.6857 - val_accuracy: 0.5425\n",
            "Epoch 28/30\n",
            "50/50 [==============================] - 11s 227ms/step - loss: 0.6836 - accuracy: 0.5638 - val_loss: 0.6854 - val_accuracy: 0.5525\n",
            "Epoch 29/30\n",
            "50/50 [==============================] - 10s 208ms/step - loss: 0.6829 - accuracy: 0.5719 - val_loss: 0.6850 - val_accuracy: 0.5625\n",
            "Epoch 30/30\n",
            "50/50 [==============================] - 10s 208ms/step - loss: 0.6866 - accuracy: 0.5512 - val_loss: 0.6848 - val_accuracy: 0.5600\n",
            "13/13 [==============================] - 2s 147ms/step - loss: 0.6848 - accuracy: 0.5600\n"
          ]
        },
        {
          "output_type": "stream",
          "name": "stderr",
          "text": [
            "\u001b[32m[I 2022-12-25 11:56:22,358]\u001b[0m Trial 3 finished with value: 0.6847888231277466 and parameters: {'batch_size': 8, 'epochs': 30, 'learning_rate': 2.0591803081587497e-05, 'optimizer': <class 'keras.optimizers.optimizer_v2.gradient_descent.SGD'>}. Best is trial 0 with value: 0.6602802276611328.\u001b[0m\n"
          ]
        },
        {
          "output_type": "stream",
          "name": "stdout",
          "text": [
            "Epoch 1/50\n",
            "50/50 [==============================] - 11s 216ms/step - loss: 0.6957 - accuracy: 0.4988 - val_loss: 0.6929 - val_accuracy: 0.4925\n",
            "Epoch 2/50\n",
            "50/50 [==============================] - 10s 208ms/step - loss: 0.6919 - accuracy: 0.5163 - val_loss: 0.6915 - val_accuracy: 0.5225\n",
            "Epoch 3/50\n",
            "50/50 [==============================] - 11s 211ms/step - loss: 0.6903 - accuracy: 0.5312 - val_loss: 0.6906 - val_accuracy: 0.5175\n",
            "Epoch 4/50\n",
            "50/50 [==============================] - 10s 208ms/step - loss: 0.6894 - accuracy: 0.5362 - val_loss: 0.6890 - val_accuracy: 0.5225\n",
            "Epoch 5/50\n",
            "50/50 [==============================] - 11s 210ms/step - loss: 0.6889 - accuracy: 0.5400 - val_loss: 0.6877 - val_accuracy: 0.5625\n",
            "Epoch 6/50\n",
            "50/50 [==============================] - 10s 207ms/step - loss: 0.6861 - accuracy: 0.5587 - val_loss: 0.6890 - val_accuracy: 0.5100\n",
            "Epoch 7/50\n",
            "50/50 [==============================] - 10s 208ms/step - loss: 0.6867 - accuracy: 0.5481 - val_loss: 0.6887 - val_accuracy: 0.5125\n",
            "Epoch 8/50\n",
            "50/50 [==============================] - 10s 208ms/step - loss: 0.6830 - accuracy: 0.5756 - val_loss: 0.6833 - val_accuracy: 0.5675\n",
            "Epoch 9/50\n",
            "50/50 [==============================] - 10s 209ms/step - loss: 0.6810 - accuracy: 0.5725 - val_loss: 0.6817 - val_accuracy: 0.5650\n",
            "Epoch 10/50\n",
            "50/50 [==============================] - 10s 208ms/step - loss: 0.6809 - accuracy: 0.5694 - val_loss: 0.6801 - val_accuracy: 0.5825\n",
            "Epoch 11/50\n",
            "50/50 [==============================] - 10s 207ms/step - loss: 0.6773 - accuracy: 0.5900 - val_loss: 0.6811 - val_accuracy: 0.5800\n",
            "Epoch 12/50\n",
            "50/50 [==============================] - 11s 226ms/step - loss: 0.6760 - accuracy: 0.5700 - val_loss: 0.6766 - val_accuracy: 0.5800\n",
            "Epoch 13/50\n",
            "50/50 [==============================] - 10s 209ms/step - loss: 0.6743 - accuracy: 0.5938 - val_loss: 0.6753 - val_accuracy: 0.5950\n",
            "Epoch 14/50\n",
            "50/50 [==============================] - 10s 209ms/step - loss: 0.6711 - accuracy: 0.5875 - val_loss: 0.6755 - val_accuracy: 0.5975\n",
            "Epoch 15/50\n",
            "50/50 [==============================] - 11s 210ms/step - loss: 0.6727 - accuracy: 0.5931 - val_loss: 0.6750 - val_accuracy: 0.6025\n",
            "Epoch 16/50\n",
            "50/50 [==============================] - 10s 207ms/step - loss: 0.6726 - accuracy: 0.5875 - val_loss: 0.6723 - val_accuracy: 0.5825\n",
            "Epoch 17/50\n",
            "50/50 [==============================] - 10s 208ms/step - loss: 0.6657 - accuracy: 0.6162 - val_loss: 0.6689 - val_accuracy: 0.6025\n",
            "Epoch 18/50\n",
            "50/50 [==============================] - 10s 209ms/step - loss: 0.6596 - accuracy: 0.6219 - val_loss: 0.6665 - val_accuracy: 0.5850\n",
            "Epoch 19/50\n",
            "50/50 [==============================] - 10s 208ms/step - loss: 0.6586 - accuracy: 0.6112 - val_loss: 0.6787 - val_accuracy: 0.5525\n",
            "Epoch 20/50\n",
            "50/50 [==============================] - 10s 208ms/step - loss: 0.6569 - accuracy: 0.6244 - val_loss: 0.6695 - val_accuracy: 0.5825\n",
            "Epoch 21/50\n",
            "50/50 [==============================] - 10s 208ms/step - loss: 0.6562 - accuracy: 0.6044 - val_loss: 0.6675 - val_accuracy: 0.5875\n",
            "13/13 [==============================] - 2s 147ms/step - loss: 0.6675 - accuracy: 0.5875\n"
          ]
        },
        {
          "output_type": "stream",
          "name": "stderr",
          "text": [
            "\u001b[32m[I 2022-12-25 12:00:06,242]\u001b[0m Trial 4 finished with value: 0.6674846410751343 and parameters: {'batch_size': 2, 'epochs': 50, 'learning_rate': 0.001481603473949826, 'optimizer': <class 'keras.optimizers.optimizer_v2.gradient_descent.SGD'>}. Best is trial 0 with value: 0.6602802276611328.\u001b[0m\n"
          ]
        }
      ]
    },
    {
      "cell_type": "code",
      "source": [
        "study.best_trial"
      ],
      "metadata": {
        "colab": {
          "base_uri": "https://localhost:8080/"
        },
        "id": "bvZwZiLa399x",
        "outputId": "28b96b48-95d1-4c7d-c878-a4e5dee29bfd"
      },
      "execution_count": null,
      "outputs": [
        {
          "output_type": "execute_result",
          "data": {
            "text/plain": [
              "FrozenTrial(number=0, values=[0.6602802276611328], datetime_start=datetime.datetime(2022, 12, 25, 11, 35, 34, 626437), datetime_complete=datetime.datetime(2022, 12, 25, 11, 42, 53, 486756), params={'batch_size': 8, 'epochs': 40, 'learning_rate': 9.509560981225496e-05, 'optimizer': <class 'keras.optimizers.optimizer_v2.gradient_descent.SGD'>}, distributions={'batch_size': IntDistribution(high=8, log=False, low=2, step=2), 'epochs': IntDistribution(high=50, log=False, low=10, step=10), 'learning_rate': FloatDistribution(high=0.01, log=True, low=1e-05, step=None), 'optimizer': CategoricalDistribution(choices=(<class 'keras.optimizers.optimizer_v2.adam.Adam'>, <class 'keras.optimizers.optimizer_v2.gradient_descent.SGD'>, <class 'keras.optimizers.optimizer_v2.rmsprop.RMSprop'>))}, user_attrs={}, system_attrs={}, intermediate_values={0: 0.6050000190734863}, trial_id=0, state=TrialState.COMPLETE, value=None)"
            ]
          },
          "metadata": {},
          "execution_count": 71
        }
      ]
    },
    {
      "cell_type": "code",
      "source": [
        "#params={'batch_size': 8, 'epochs': 40, 'learning_rate': 9.509560981225496e-05, 'optimizer': <class 'keras.optimizers.optimizer_v2.gradient_descent.SGD'>}\n",
        "model1 = tf.keras.models.Sequential([\n",
        "        tf.keras.layers.Conv2D(32, (3,3), activation='relu', input_shape=(img_height, img_width, 3)),\n",
        "        tf.keras.layers.LeakyReLU(alpha=0.3),\n",
        "        tf.keras.layers.MaxPooling2D(2,2),\n",
        "\n",
        "        tf.keras.layers.Conv2D(64, (3,3), activation='relu'),\n",
        "        tf.keras.layers.LeakyReLU(alpha=0.3),\n",
        "        tf.keras.layers.MaxPooling2D(2,2), \n",
        "        tf.keras.layers.Dropout(0.2),\n",
        "        \n",
        "        tf.keras.layers.Flatten(), \n",
        "        tf.keras.layers.Dense(32, activation=\"relu\"),\n",
        "        tf.keras.layers.Dropout(0.2),\n",
        "        tf.keras.layers.Dense(NUM_CLASSES, activation=\"softmax\")\n",
        "    ])\n",
        "\n",
        "callback = tf.keras.callbacks.EarlyStopping(monitor='val_loss', patience=3, mode='min')\n",
        "model1.compile(optimizer=SGD(lr=9.509560981225496e-05), loss='categorical_crossentropy', metrics=['accuracy'])\n",
        "H = model1.fit(train_generator,batch_size=8,callbacks=[callback],\n",
        "        epochs=40,validation_data=test_generator,shuffle=True)\n",
        "\n",
        "plt.plot(H.history['loss'])\n",
        "plt.plot(H.history['val_loss'])\n",
        "plt.title('model loss')\n",
        "plt.ylabel('loss')\n",
        "plt.xlabel('epoch')\n",
        "plt.legend(['train', 'val'], loc='upper left')\n",
        "plt.show()"
      ],
      "metadata": {
        "colab": {
          "base_uri": "https://localhost:8080/",
          "height": 1000
        },
        "id": "6BI8Qea1wemE",
        "outputId": "fee53bf9-9788-4699-9f2f-3f7b65740001"
      },
      "execution_count": 10,
      "outputs": [
        {
          "output_type": "stream",
          "name": "stderr",
          "text": [
            "/usr/local/lib/python3.8/dist-packages/keras/optimizers/optimizer_v2/gradient_descent.py:108: UserWarning: The `lr` argument is deprecated, use `learning_rate` instead.\n",
            "  super(SGD, self).__init__(name, **kwargs)\n"
          ]
        },
        {
          "output_type": "stream",
          "name": "stdout",
          "text": [
            "Epoch 1/40\n",
            "50/50 [==============================] - 359s 7s/step - loss: 0.6974 - accuracy: 0.5013 - val_loss: 0.6929 - val_accuracy: 0.5200\n",
            "Epoch 2/40\n",
            "50/50 [==============================] - 11s 219ms/step - loss: 0.6942 - accuracy: 0.5075 - val_loss: 0.6912 - val_accuracy: 0.5175\n",
            "Epoch 3/40\n",
            "50/50 [==============================] - 11s 218ms/step - loss: 0.6924 - accuracy: 0.5194 - val_loss: 0.6900 - val_accuracy: 0.5425\n",
            "Epoch 4/40\n",
            "50/50 [==============================] - 11s 216ms/step - loss: 0.6904 - accuracy: 0.5300 - val_loss: 0.6891 - val_accuracy: 0.5650\n",
            "Epoch 5/40\n",
            "50/50 [==============================] - 11s 217ms/step - loss: 0.6913 - accuracy: 0.5312 - val_loss: 0.6887 - val_accuracy: 0.5350\n",
            "Epoch 6/40\n",
            "50/50 [==============================] - 12s 240ms/step - loss: 0.6878 - accuracy: 0.5587 - val_loss: 0.6882 - val_accuracy: 0.5525\n",
            "Epoch 7/40\n",
            "50/50 [==============================] - 11s 215ms/step - loss: 0.6891 - accuracy: 0.5512 - val_loss: 0.6870 - val_accuracy: 0.5525\n",
            "Epoch 8/40\n",
            "50/50 [==============================] - 11s 216ms/step - loss: 0.6850 - accuracy: 0.5631 - val_loss: 0.6851 - val_accuracy: 0.5575\n",
            "Epoch 9/40\n",
            "50/50 [==============================] - 11s 217ms/step - loss: 0.6877 - accuracy: 0.5325 - val_loss: 0.6843 - val_accuracy: 0.5625\n",
            "Epoch 10/40\n",
            "50/50 [==============================] - 11s 215ms/step - loss: 0.6843 - accuracy: 0.5519 - val_loss: 0.6834 - val_accuracy: 0.5575\n",
            "Epoch 11/40\n",
            "50/50 [==============================] - 11s 214ms/step - loss: 0.6845 - accuracy: 0.5444 - val_loss: 0.6835 - val_accuracy: 0.5700\n",
            "Epoch 12/40\n",
            "50/50 [==============================] - 11s 214ms/step - loss: 0.6850 - accuracy: 0.5456 - val_loss: 0.6832 - val_accuracy: 0.5825\n",
            "Epoch 13/40\n",
            "50/50 [==============================] - 11s 215ms/step - loss: 0.6819 - accuracy: 0.5738 - val_loss: 0.6815 - val_accuracy: 0.5725\n",
            "Epoch 14/40\n",
            "50/50 [==============================] - 11s 216ms/step - loss: 0.6823 - accuracy: 0.5625 - val_loss: 0.6808 - val_accuracy: 0.5650\n",
            "Epoch 15/40\n",
            "50/50 [==============================] - 11s 216ms/step - loss: 0.6782 - accuracy: 0.5750 - val_loss: 0.6812 - val_accuracy: 0.5725\n",
            "Epoch 16/40\n",
            "50/50 [==============================] - 11s 218ms/step - loss: 0.6791 - accuracy: 0.5725 - val_loss: 0.6796 - val_accuracy: 0.5825\n",
            "Epoch 17/40\n",
            "50/50 [==============================] - 11s 216ms/step - loss: 0.6792 - accuracy: 0.5619 - val_loss: 0.6785 - val_accuracy: 0.5650\n",
            "Epoch 18/40\n",
            "50/50 [==============================] - 11s 217ms/step - loss: 0.6792 - accuracy: 0.5644 - val_loss: 0.6775 - val_accuracy: 0.5700\n",
            "Epoch 19/40\n",
            "50/50 [==============================] - 11s 217ms/step - loss: 0.6790 - accuracy: 0.5594 - val_loss: 0.6767 - val_accuracy: 0.5675\n",
            "Epoch 20/40\n",
            "50/50 [==============================] - 11s 218ms/step - loss: 0.6773 - accuracy: 0.5850 - val_loss: 0.6768 - val_accuracy: 0.5675\n",
            "Epoch 21/40\n",
            "50/50 [==============================] - 11s 219ms/step - loss: 0.6777 - accuracy: 0.5706 - val_loss: 0.6768 - val_accuracy: 0.5675\n",
            "Epoch 22/40\n",
            "50/50 [==============================] - 11s 217ms/step - loss: 0.6739 - accuracy: 0.5850 - val_loss: 0.6762 - val_accuracy: 0.5775\n",
            "Epoch 23/40\n",
            "50/50 [==============================] - 12s 237ms/step - loss: 0.6736 - accuracy: 0.5831 - val_loss: 0.6747 - val_accuracy: 0.5800\n",
            "Epoch 24/40\n",
            "50/50 [==============================] - 11s 215ms/step - loss: 0.6722 - accuracy: 0.5875 - val_loss: 0.6750 - val_accuracy: 0.5725\n",
            "Epoch 25/40\n",
            "50/50 [==============================] - 11s 216ms/step - loss: 0.6720 - accuracy: 0.5863 - val_loss: 0.6733 - val_accuracy: 0.5800\n",
            "Epoch 26/40\n",
            "50/50 [==============================] - 11s 214ms/step - loss: 0.6724 - accuracy: 0.5913 - val_loss: 0.6736 - val_accuracy: 0.5825\n",
            "Epoch 27/40\n",
            "50/50 [==============================] - 11s 215ms/step - loss: 0.6675 - accuracy: 0.5906 - val_loss: 0.6732 - val_accuracy: 0.5925\n",
            "Epoch 28/40\n",
            "50/50 [==============================] - 11s 213ms/step - loss: 0.6713 - accuracy: 0.5906 - val_loss: 0.6726 - val_accuracy: 0.5925\n",
            "Epoch 29/40\n",
            "50/50 [==============================] - 11s 213ms/step - loss: 0.6723 - accuracy: 0.5788 - val_loss: 0.6717 - val_accuracy: 0.5900\n",
            "Epoch 30/40\n",
            "50/50 [==============================] - 11s 217ms/step - loss: 0.6684 - accuracy: 0.6006 - val_loss: 0.6709 - val_accuracy: 0.5950\n",
            "Epoch 31/40\n",
            "50/50 [==============================] - 11s 214ms/step - loss: 0.6660 - accuracy: 0.5894 - val_loss: 0.6698 - val_accuracy: 0.5925\n",
            "Epoch 32/40\n",
            "50/50 [==============================] - 11s 213ms/step - loss: 0.6671 - accuracy: 0.5844 - val_loss: 0.6702 - val_accuracy: 0.5925\n",
            "Epoch 33/40\n",
            "50/50 [==============================] - 11s 214ms/step - loss: 0.6643 - accuracy: 0.5938 - val_loss: 0.6684 - val_accuracy: 0.5850\n",
            "Epoch 34/40\n",
            "50/50 [==============================] - 11s 216ms/step - loss: 0.6671 - accuracy: 0.5863 - val_loss: 0.6692 - val_accuracy: 0.6075\n",
            "Epoch 35/40\n",
            "50/50 [==============================] - 11s 214ms/step - loss: 0.6668 - accuracy: 0.5994 - val_loss: 0.6698 - val_accuracy: 0.6050\n",
            "Epoch 36/40\n",
            "50/50 [==============================] - 11s 212ms/step - loss: 0.6687 - accuracy: 0.5769 - val_loss: 0.6697 - val_accuracy: 0.6075\n"
          ]
        },
        {
          "output_type": "display_data",
          "data": {
            "text/plain": [
              "<Figure size 432x288 with 1 Axes>"
            ],
            "image/png": "[encoded data removed]"
          },
          "metadata": {
            "needs_background": "light"
          }
        }
      ]
    },
    {
      "cell_type": "markdown",
      "source": [
        "# Model 2"
      ],
      "metadata": {
        "id": "5j8slui_nSQR"
      }
    },
    {
      "cell_type": "code",
      "source": [
        "model2 = tf.keras.models.Sequential([\n",
        "        tf.keras.layers.Conv2D(16, (3,3), activation='sigmoid', input_shape=(img_height, img_width, 3)),\n",
        "        tf.keras.layers.MaxPooling2D(2,2),\n",
        "\n",
        "        tf.keras.layers.Conv2D(32, (3,3), activation='sigmoid'),\n",
        "        tf.keras.layers.MaxPooling2D(2,2), \n",
        "        tf.keras.layers.Dropout(0.2),\n",
        "\n",
        "        tf.keras.layers.Conv2D(64, (3,3), activation='sigmoid'),\n",
        "        tf.keras.layers.MaxPooling2D(2,2), \n",
        "        tf.keras.layers.Dropout(0.2),\n",
        "\n",
        "        tf.keras.layers.Conv2D(128, (3,3), activation='sigmoid'),\n",
        "        tf.keras.layers.MaxPooling2D(2,2), \n",
        "        tf.keras.layers.Dropout(0.2),\n",
        "\n",
        "        tf.keras.layers.Conv2D(256, (3,3), activation='sigmoid'),\n",
        "        tf.keras.layers.MaxPooling2D(2,2), \n",
        "        tf.keras.layers.Dropout(0.2),\n",
        "        \n",
        "        tf.keras.layers.Flatten(), \n",
        "        tf.keras.layers.Dense(128, activation=\"sigmoid\"),\n",
        "        tf.keras.layers.Dropout(0.2),\n",
        "        tf.keras.layers.Dense(NUM_CLASSES, activation=\"sigmoid\")\n",
        "    ])\n",
        "\n",
        "callback = tf.keras.callbacks.EarlyStopping(monitor='val_loss', patience=3, mode='min')\n",
        "# This callback will stop the training when there is no improvement in\n",
        "# the loss for three consecutive epochs.\n",
        "\n",
        "model2.compile(\n",
        "    loss=\"categorical_crossentropy\",\n",
        "    optimizer=tf.keras.optimizers.Adam(),\n",
        "    metrics=[\"accuracy\"])\n",
        "\n",
        "history = model2.fit(train_generator,\n",
        "                      batch_size=BATCH_SIZE,\n",
        "                      epochs=EPOCHS,\n",
        "                      validation_data=test_generator,\n",
        "                      callbacks=[callback],\n",
        "                      shuffle=True)"
      ],
      "metadata": {
        "colab": {
          "base_uri": "https://localhost:8080/"
        },
        "id": "5_cFyPtpBwnM",
        "outputId": "e09115df-e229-4fbd-8867-de4e5cf8d86e"
      },
      "execution_count": null,
      "outputs": [
        {
          "output_type": "stream",
          "name": "stdout",
          "text": [
            "Epoch 1/100\n",
            "50/50 [==============================] - 11s 205ms/step - loss: 2.5191 - accuracy: 0.4925 - val_loss: 1.0666 - val_accuracy: 0.5000\n",
            "Epoch 2/100\n",
            "50/50 [==============================] - 10s 197ms/step - loss: 0.7470 - accuracy: 0.5050 - val_loss: 0.6991 - val_accuracy: 0.5000\n",
            "Epoch 3/100\n",
            "50/50 [==============================] - 10s 200ms/step - loss: 0.7153 - accuracy: 0.4719 - val_loss: 0.6937 - val_accuracy: 0.5000\n",
            "Epoch 4/100\n",
            "50/50 [==============================] - 10s 200ms/step - loss: 0.7122 - accuracy: 0.4938 - val_loss: 0.6932 - val_accuracy: 0.5000\n",
            "Epoch 5/100\n",
            "50/50 [==============================] - 11s 218ms/step - loss: 0.7148 - accuracy: 0.4837 - val_loss: 0.6932 - val_accuracy: 0.5000\n",
            "Epoch 6/100\n",
            "50/50 [==============================] - 10s 199ms/step - loss: 0.7085 - accuracy: 0.4800 - val_loss: 0.6937 - val_accuracy: 0.5000\n",
            "Epoch 7/100\n",
            "50/50 [==============================] - 10s 199ms/step - loss: 0.7014 - accuracy: 0.4950 - val_loss: 0.6932 - val_accuracy: 0.5000\n",
            "Epoch 8/100\n",
            "50/50 [==============================] - 10s 199ms/step - loss: 0.7079 - accuracy: 0.4988 - val_loss: 0.6934 - val_accuracy: 0.5000\n",
            "Epoch 9/100\n",
            "50/50 [==============================] - 10s 199ms/step - loss: 0.7101 - accuracy: 0.4875 - val_loss: 0.6934 - val_accuracy: 0.5000\n",
            "Epoch 10/100\n",
            "50/50 [==============================] - 10s 199ms/step - loss: 0.6985 - accuracy: 0.5138 - val_loss: 0.6941 - val_accuracy: 0.5000\n"
          ]
        }
      ]
    },
    {
      "cell_type": "code",
      "source": [
        "plt.plot(history.history['loss'])\n",
        "plt.plot(history.history['val_loss'])\n",
        "plt.title('model loss')\n",
        "plt.ylabel('loss')\n",
        "plt.xlabel('epoch')\n",
        "plt.legend(['train', 'val'], loc='upper left')\n",
        "plt.show()"
      ],
      "metadata": {
        "colab": {
          "base_uri": "https://localhost:8080/",
          "height": 295
        },
        "id": "DLzh3f-QD1sp",
        "outputId": "cb989dc7-3380-4a20-bc24-bd05480b0059"
      },
      "execution_count": null,
      "outputs": [
        {
          "output_type": "display_data",
          "data": {
            "text/plain": [
              "<Figure size 432x288 with 1 Axes>"
            ],
            "image/png": "[encoded data removed]"
          },
          "metadata": {
            "needs_background": "light"
          }
        }
      ]
    },
    {
      "cell_type": "code",
      "source": [
        "visualkeras.layered_view(model2,legend=True, draw_volume=True)"
      ],
      "metadata": {
        "colab": {
          "base_uri": "https://localhost:8080/",
          "height": 1000
        },
        "id": "vBShenucD-Tu",
        "outputId": "b362a058-84ae-4cab-a783-77d757482108"
      },
      "execution_count": null,
      "outputs": [
        {
          "output_type": "execute_result",
          "data": {
            "text/plain": [
              "<PIL.Image.Image image mode=RGBA size=1149x1626 at 0x7FC03E5B8730>"
            ],
            "image/png": "[encoded data removed]"
          },
          "metadata": {},
          "execution_count": 74
        }
      ]
    },
    {
      "cell_type": "markdown",
      "source": [
        "## 5 Fold Cross Validation with Optuna (Model 2)"
      ],
      "metadata": {
        "id": "sngnEAp6pR3R"
      }
    },
    {
      "cell_type": "code",
      "source": [
        "n_train_iter = 1\n",
        "def objective(trial):\n",
        "    # Parameters\n",
        "    batch_size = trial.suggest_int(\"batch_size\", 2, 8, step=2)\n",
        "    epochs = trial.suggest_int(\"epochs\", 10,50, step=10)\n",
        "    lr = trial.suggest_float(\"learning_rate\", 1e-5, 1e-2, log=True)\n",
        "    opt = trial.suggest_categorical(\"optimizer\", [Adam, SGD, RMSprop])\n",
        "\n",
        "    # Model\n",
        "    model2 = tf.keras.models.Sequential([\n",
        "        tf.keras.layers.Conv2D(16, (3,3), activation='sigmoid', input_shape=(img_height, img_width, 3)),\n",
        "        tf.keras.layers.MaxPooling2D(2,2),\n",
        "\n",
        "        tf.keras.layers.Conv2D(32, (3,3), activation='sigmoid'),\n",
        "        tf.keras.layers.MaxPooling2D(2,2), \n",
        "        tf.keras.layers.Dropout(0.2),\n",
        "\n",
        "        tf.keras.layers.Conv2D(64, (3,3), activation='sigmoid'),\n",
        "        tf.keras.layers.MaxPooling2D(2,2), \n",
        "        tf.keras.layers.Dropout(0.2),\n",
        "\n",
        "        tf.keras.layers.Conv2D(128, (3,3), activation='sigmoid'),\n",
        "        tf.keras.layers.MaxPooling2D(2,2), \n",
        "        tf.keras.layers.Dropout(0.2),\n",
        "\n",
        "        tf.keras.layers.Conv2D(256, (3,3), activation='sigmoid'),\n",
        "        tf.keras.layers.MaxPooling2D(2,2), \n",
        "        tf.keras.layers.Dropout(0.2),\n",
        "        \n",
        "        tf.keras.layers.Flatten(), \n",
        "        tf.keras.layers.Dense(128, activation=\"sigmoid\"),\n",
        "        tf.keras.layers.Dropout(0.2),\n",
        "        tf.keras.layers.Dense(NUM_CLASSES, activation=\"sigmoid\")\n",
        "    ])\n",
        "    for step in range(n_train_iter):\n",
        "        callback = tf.keras.callbacks.EarlyStopping(monitor='val_loss', patience=3, mode='min')\n",
        "        model2.compile(optimizer=opt(lr=lr), loss='categorical_crossentropy', metrics=['accuracy'])\n",
        "        H = model2.fit(train_generator,batch_size=batch_size,callbacks=[callback],\n",
        "                epochs=epochs,validation_data=test_generator,shuffle=True)\n",
        "        \n",
        "        val_loss, val_acc = model2.evaluate(test_generator)\n",
        "        trial.report(val_acc, step)\n",
        "\n",
        "        if trial.should_prune():\n",
        "            raise optuna.TrialPruned()\n",
        "    \n",
        "    return val_loss # optuna değerlendirmesini en küçük değere göre yapıyor o yüzden loss döndürdüm. Accuracy döndürdüğümde acc büyüdükçe bunu kötü bir şeymiş gibi algıladı.\n",
        "\n",
        "\n",
        "# Default Sampler is Tree-structured Parzen Estimator algorithm\n",
        "\n",
        "study = optuna.create_study()  # Create a new study.\n",
        "start = time.time()\n",
        "study.optimize(objective, n_trials=5)\n",
        "end = time.time()"
      ],
      "metadata": {
        "colab": {
          "base_uri": "https://localhost:8080/"
        },
        "id": "7dokum0-okZF",
        "outputId": "013ba0a5-1dc9-46db-9034-7005c37eda6b"
      },
      "execution_count": null,
      "outputs": [
        {
          "output_type": "stream",
          "name": "stderr",
          "text": [
            "\u001b[32m[I 2022-12-25 12:01:48,691]\u001b[0m A new study created in memory with name: no-name-2ee264de-a389-4899-a183-620870373059\u001b[0m\n"
          ]
        },
        {
          "output_type": "stream",
          "name": "stdout",
          "text": [
            "Epoch 1/40\n",
            "50/50 [==============================] - 11s 208ms/step - loss: 1.1187 - accuracy: 0.4906 - val_loss: 0.6960 - val_accuracy: 0.5000\n",
            "Epoch 2/40\n",
            "50/50 [==============================] - 10s 201ms/step - loss: 0.7261 - accuracy: 0.5031 - val_loss: 0.6932 - val_accuracy: 0.5000\n",
            "Epoch 3/40\n",
            "50/50 [==============================] - 10s 202ms/step - loss: 0.7340 - accuracy: 0.4931 - val_loss: 0.7026 - val_accuracy: 0.5000\n",
            "Epoch 4/40\n",
            "50/50 [==============================] - 10s 200ms/step - loss: 0.7192 - accuracy: 0.5000 - val_loss: 0.7031 - val_accuracy: 0.5000\n",
            "Epoch 5/40\n",
            "50/50 [==============================] - 10s 201ms/step - loss: 0.7207 - accuracy: 0.5250 - val_loss: 0.6998 - val_accuracy: 0.5000\n",
            "13/13 [==============================] - 2s 145ms/step - loss: 0.6998 - accuracy: 0.5000\n"
          ]
        },
        {
          "output_type": "stream",
          "name": "stderr",
          "text": [
            "\u001b[32m[I 2022-12-25 12:02:43,361]\u001b[0m Trial 0 finished with value: 0.6997938752174377 and parameters: {'batch_size': 4, 'epochs': 40, 'learning_rate': 0.005711441948070854, 'optimizer': <class 'keras.optimizers.optimizer_v2.rmsprop.RMSprop'>}. Best is trial 0 with value: 0.6997938752174377.\u001b[0m\n"
          ]
        },
        {
          "output_type": "stream",
          "name": "stdout",
          "text": [
            "Epoch 1/30\n",
            "50/50 [==============================] - 11s 207ms/step - loss: 0.7735 - accuracy: 0.5019 - val_loss: 0.6933 - val_accuracy: 0.5000\n",
            "Epoch 2/30\n",
            "50/50 [==============================] - 10s 202ms/step - loss: 0.7249 - accuracy: 0.5244 - val_loss: 0.6932 - val_accuracy: 0.5000\n",
            "Epoch 3/30\n",
            "50/50 [==============================] - 10s 201ms/step - loss: 0.7437 - accuracy: 0.5050 - val_loss: 0.7074 - val_accuracy: 0.5000\n",
            "Epoch 4/30\n",
            "50/50 [==============================] - 11s 218ms/step - loss: 0.7329 - accuracy: 0.5044 - val_loss: 0.6932 - val_accuracy: 0.5000\n",
            "Epoch 5/30\n",
            "50/50 [==============================] - 10s 201ms/step - loss: 0.7393 - accuracy: 0.4906 - val_loss: 0.6949 - val_accuracy: 0.5000\n",
            "Epoch 6/30\n",
            "50/50 [==============================] - 10s 200ms/step - loss: 0.7263 - accuracy: 0.4975 - val_loss: 0.6946 - val_accuracy: 0.5000\n",
            "Epoch 7/30\n",
            "50/50 [==============================] - 10s 200ms/step - loss: 0.7207 - accuracy: 0.4931 - val_loss: 0.6956 - val_accuracy: 0.5000\n",
            "13/13 [==============================] - 2s 145ms/step - loss: 0.6956 - accuracy: 0.5000\n"
          ]
        },
        {
          "output_type": "stream",
          "name": "stderr",
          "text": [
            "\u001b[32m[I 2022-12-25 12:03:58,299]\u001b[0m Trial 1 finished with value: 0.6955534219741821 and parameters: {'batch_size': 4, 'epochs': 30, 'learning_rate': 0.0006549291919194616, 'optimizer': <class 'keras.optimizers.optimizer_v2.rmsprop.RMSprop'>}. Best is trial 1 with value: 0.6955534219741821.\u001b[0m\n"
          ]
        },
        {
          "output_type": "stream",
          "name": "stdout",
          "text": [
            "Epoch 1/40\n",
            "50/50 [==============================] - 11s 208ms/step - loss: 0.7727 - accuracy: 0.4950 - val_loss: 0.6932 - val_accuracy: 0.5000\n",
            "Epoch 2/40\n",
            "50/50 [==============================] - 10s 202ms/step - loss: 0.7337 - accuracy: 0.5038 - val_loss: 0.6952 - val_accuracy: 0.5000\n",
            "Epoch 3/40\n",
            "50/50 [==============================] - 10s 199ms/step - loss: 0.7322 - accuracy: 0.5013 - val_loss: 0.6932 - val_accuracy: 0.5000\n",
            "Epoch 4/40\n",
            "50/50 [==============================] - 10s 200ms/step - loss: 0.7198 - accuracy: 0.5125 - val_loss: 0.6939 - val_accuracy: 0.5000\n",
            "13/13 [==============================] - 2s 146ms/step - loss: 0.6939 - accuracy: 0.5000\n"
          ]
        },
        {
          "output_type": "stream",
          "name": "stderr",
          "text": [
            "\u001b[32m[I 2022-12-25 12:04:41,873]\u001b[0m Trial 2 finished with value: 0.6938936710357666 and parameters: {'batch_size': 4, 'epochs': 40, 'learning_rate': 0.00023349702045759413, 'optimizer': <class 'keras.optimizers.optimizer_v2.adam.Adam'>}. Best is trial 2 with value: 0.6938936710357666.\u001b[0m\n"
          ]
        },
        {
          "output_type": "stream",
          "name": "stdout",
          "text": [
            "Epoch 1/40\n",
            "50/50 [==============================] - 11s 207ms/step - loss: 2.1901 - accuracy: 0.5038 - val_loss: 0.9160 - val_accuracy: 0.5000\n",
            "Epoch 2/40\n",
            "50/50 [==============================] - 10s 202ms/step - loss: 0.7425 - accuracy: 0.4969 - val_loss: 0.6932 - val_accuracy: 0.5000\n",
            "Epoch 3/40\n",
            "50/50 [==============================] - 10s 202ms/step - loss: 0.7102 - accuracy: 0.5038 - val_loss: 0.6934 - val_accuracy: 0.5000\n",
            "Epoch 4/40\n",
            "50/50 [==============================] - 10s 202ms/step - loss: 0.7093 - accuracy: 0.4825 - val_loss: 0.6936 - val_accuracy: 0.5000\n",
            "Epoch 5/40\n",
            "50/50 [==============================] - 10s 202ms/step - loss: 0.7066 - accuracy: 0.4988 - val_loss: 0.6932 - val_accuracy: 0.5000\n",
            "Epoch 6/40\n",
            "50/50 [==============================] - 10s 201ms/step - loss: 0.7076 - accuracy: 0.4925 - val_loss: 0.6933 - val_accuracy: 0.5000\n",
            "Epoch 7/40\n",
            "50/50 [==============================] - 11s 212ms/step - loss: 0.7091 - accuracy: 0.4894 - val_loss: 0.6931 - val_accuracy: 0.5000\n",
            "Epoch 8/40\n",
            "50/50 [==============================] - 10s 207ms/step - loss: 0.7090 - accuracy: 0.5063 - val_loss: 0.6964 - val_accuracy: 0.5000\n",
            "Epoch 9/40\n",
            "50/50 [==============================] - 10s 204ms/step - loss: 0.7102 - accuracy: 0.4837 - val_loss: 0.6934 - val_accuracy: 0.5000\n",
            "Epoch 10/40\n",
            "50/50 [==============================] - 10s 202ms/step - loss: 0.7043 - accuracy: 0.4875 - val_loss: 0.6935 - val_accuracy: 0.5000\n",
            "13/13 [==============================] - 2s 148ms/step - loss: 0.6935 - accuracy: 0.5000\n"
          ]
        },
        {
          "output_type": "stream",
          "name": "stderr",
          "text": [
            "\u001b[32m[I 2022-12-25 12:06:27,400]\u001b[0m Trial 3 finished with value: 0.6935204863548279 and parameters: {'batch_size': 6, 'epochs': 40, 'learning_rate': 0.0010805685887489704, 'optimizer': <class 'keras.optimizers.optimizer_v2.adam.Adam'>}. Best is trial 3 with value: 0.6935204863548279.\u001b[0m\n"
          ]
        },
        {
          "output_type": "stream",
          "name": "stdout",
          "text": [
            "Epoch 1/40\n",
            "50/50 [==============================] - 17s 207ms/step - loss: 0.7469 - accuracy: 0.5138 - val_loss: 0.7004 - val_accuracy: 0.5000\n",
            "Epoch 2/40\n",
            "50/50 [==============================] - 10s 202ms/step - loss: 0.7322 - accuracy: 0.4881 - val_loss: 0.6955 - val_accuracy: 0.5000\n",
            "Epoch 3/40\n",
            "50/50 [==============================] - 10s 202ms/step - loss: 0.7242 - accuracy: 0.4794 - val_loss: 0.6937 - val_accuracy: 0.5000\n",
            "Epoch 4/40\n",
            "50/50 [==============================] - 10s 206ms/step - loss: 0.7099 - accuracy: 0.4888 - val_loss: 0.7083 - val_accuracy: 0.5000\n",
            "Epoch 5/40\n",
            "50/50 [==============================] - 10s 202ms/step - loss: 0.7086 - accuracy: 0.5125 - val_loss: 0.6963 - val_accuracy: 0.5000\n",
            "Epoch 6/40\n",
            "50/50 [==============================] - 10s 200ms/step - loss: 0.7060 - accuracy: 0.4919 - val_loss: 0.6947 - val_accuracy: 0.5000\n",
            "13/13 [==============================] - 2s 149ms/step - loss: 0.6947 - accuracy: 0.5000\n"
          ]
        },
        {
          "output_type": "stream",
          "name": "stderr",
          "text": [
            "\u001b[32m[I 2022-12-25 12:07:37,474]\u001b[0m Trial 4 finished with value: 0.6946933269500732 and parameters: {'batch_size': 6, 'epochs': 40, 'learning_rate': 0.004466534160160097, 'optimizer': <class 'keras.optimizers.optimizer_v2.gradient_descent.SGD'>}. Best is trial 3 with value: 0.6935204863548279.\u001b[0m\n"
          ]
        }
      ]
    },
    {
      "cell_type": "code",
      "source": [
        "study.best_trial"
      ],
      "metadata": {
        "colab": {
          "base_uri": "https://localhost:8080/"
        },
        "id": "NruEeADu3_j3",
        "outputId": "f13f026e-615b-4fc0-f2a9-0acd8add9183"
      },
      "execution_count": null,
      "outputs": [
        {
          "output_type": "execute_result",
          "data": {
            "text/plain": [
              "FrozenTrial(number=3, values=[0.6935204863548279], datetime_start=datetime.datetime(2022, 12, 25, 12, 4, 41, 874734), datetime_complete=datetime.datetime(2022, 12, 25, 12, 6, 27, 400629), params={'batch_size': 6, 'epochs': 40, 'learning_rate': 0.0010805685887489704, 'optimizer': <class 'keras.optimizers.optimizer_v2.adam.Adam'>}, distributions={'batch_size': IntDistribution(high=8, log=False, low=2, step=2), 'epochs': IntDistribution(high=50, log=False, low=10, step=10), 'learning_rate': FloatDistribution(high=0.01, log=True, low=1e-05, step=None), 'optimizer': CategoricalDistribution(choices=(<class 'keras.optimizers.optimizer_v2.adam.Adam'>, <class 'keras.optimizers.optimizer_v2.gradient_descent.SGD'>, <class 'keras.optimizers.optimizer_v2.rmsprop.RMSprop'>))}, user_attrs={}, system_attrs={}, intermediate_values={0: 0.5}, trial_id=3, state=TrialState.COMPLETE, value=None)"
            ]
          },
          "metadata": {},
          "execution_count": 76
        }
      ]
    },
    {
      "cell_type": "code",
      "source": [
        "#{'batch_size': 6, 'epochs': 40, 'learning_rate': 0.0010805685887489704, 'optimizer': <class 'keras.optimizers.optimizer_v2.adam.Adam'>}\n",
        "model2 = tf.keras.models.Sequential([\n",
        "        tf.keras.layers.Conv2D(16, (3,3), activation='sigmoid', input_shape=(img_height, img_width, 3)),\n",
        "        tf.keras.layers.MaxPooling2D(2,2),\n",
        "\n",
        "        tf.keras.layers.Conv2D(32, (3,3), activation='sigmoid'),\n",
        "        tf.keras.layers.MaxPooling2D(2,2), \n",
        "        tf.keras.layers.Dropout(0.2),\n",
        "\n",
        "        tf.keras.layers.Conv2D(64, (3,3), activation='sigmoid'),\n",
        "        tf.keras.layers.MaxPooling2D(2,2), \n",
        "        tf.keras.layers.Dropout(0.2),\n",
        "\n",
        "        tf.keras.layers.Conv2D(128, (3,3), activation='sigmoid'),\n",
        "        tf.keras.layers.MaxPooling2D(2,2), \n",
        "        tf.keras.layers.Dropout(0.2),\n",
        "\n",
        "        tf.keras.layers.Conv2D(256, (3,3), activation='sigmoid'),\n",
        "        tf.keras.layers.MaxPooling2D(2,2), \n",
        "        tf.keras.layers.Dropout(0.2),\n",
        "        \n",
        "        tf.keras.layers.Flatten(), \n",
        "        tf.keras.layers.Dense(128, activation=\"sigmoid\"),\n",
        "        tf.keras.layers.Dropout(0.2),\n",
        "        tf.keras.layers.Dense(NUM_CLASSES, activation=\"sigmoid\")\n",
        "    ])\n",
        "callback = tf.keras.callbacks.EarlyStopping(monitor='val_loss', patience=3, mode='min')\n",
        "model2.compile(optimizer=Adam(lr=0.0010805685887489704), loss='categorical_crossentropy', metrics=['accuracy'])\n",
        "H = model2.fit(train_generator,batch_size=6,callbacks=[callback],\n",
        "        epochs=40,validation_data=test_generator,shuffle=True)\n",
        "\n",
        "plt.plot(H.history['loss'])\n",
        "plt.plot(H.history['val_loss'])\n",
        "plt.title('model loss')\n",
        "plt.ylabel('loss')\n",
        "plt.xlabel('epoch')\n",
        "plt.legend(['train', 'val'], loc='upper left')\n",
        "plt.show()"
      ],
      "metadata": {
        "colab": {
          "base_uri": "https://localhost:8080/",
          "height": 567
        },
        "id": "irnaYNWh10UV",
        "outputId": "11e88303-0511-4324-8da2-c97b18e4c568"
      },
      "execution_count": 11,
      "outputs": [
        {
          "output_type": "stream",
          "name": "stdout",
          "text": [
            "Epoch 1/40\n"
          ]
        },
        {
          "output_type": "stream",
          "name": "stderr",
          "text": [
            "/usr/local/lib/python3.8/dist-packages/keras/optimizers/optimizer_v2/adam.py:110: UserWarning: The `lr` argument is deprecated, use `learning_rate` instead.\n",
            "  super(Adam, self).__init__(name, **kwargs)\n"
          ]
        },
        {
          "output_type": "stream",
          "name": "stdout",
          "text": [
            "50/50 [==============================] - 13s 237ms/step - loss: 2.1529 - accuracy: 0.5056 - val_loss: 0.7499 - val_accuracy: 0.5000\n",
            "Epoch 2/40\n",
            "50/50 [==============================] - 10s 204ms/step - loss: 0.7276 - accuracy: 0.5019 - val_loss: 0.6947 - val_accuracy: 0.5000\n",
            "Epoch 3/40\n",
            "50/50 [==============================] - 10s 207ms/step - loss: 0.7056 - accuracy: 0.5181 - val_loss: 0.6944 - val_accuracy: 0.5000\n",
            "Epoch 4/40\n",
            "50/50 [==============================] - 10s 205ms/step - loss: 0.7090 - accuracy: 0.5200 - val_loss: 0.6932 - val_accuracy: 0.5000\n",
            "Epoch 5/40\n",
            "50/50 [==============================] - 10s 205ms/step - loss: 0.7062 - accuracy: 0.5194 - val_loss: 0.6995 - val_accuracy: 0.5000\n",
            "Epoch 6/40\n",
            "50/50 [==============================] - 10s 207ms/step - loss: 0.7115 - accuracy: 0.4975 - val_loss: 0.6954 - val_accuracy: 0.5000\n",
            "Epoch 7/40\n",
            "50/50 [==============================] - 11s 228ms/step - loss: 0.7192 - accuracy: 0.5000 - val_loss: 0.6941 - val_accuracy: 0.5000\n"
          ]
        },
        {
          "output_type": "display_data",
          "data": {
            "text/plain": [
              "<Figure size 432x288 with 1 Axes>"
            ],
            "image/png": "[encoded data removed]"
          },
          "metadata": {
            "needs_background": "light"
          }
        }
      ]
    },
    {
      "cell_type": "markdown",
      "source": [
        "# Model 3"
      ],
      "metadata": {
        "id": "l8bpj5kmolCO"
      }
    },
    {
      "cell_type": "code",
      "source": [
        "\n",
        "model3 = tf.keras.models.Sequential([\n",
        "        tf.keras.layers.Conv2D(8, (3,3), activation='relu', input_shape=(img_height, img_width, 3)),\n",
        "        tf.keras.layers.MaxPooling2D(2,2),\n",
        "\n",
        "        tf.keras.layers.Conv2D(16, (3,3), activation='relu'),\n",
        "        tf.keras.layers.MaxPooling2D(2,2), \n",
        "        tf.keras.layers.Dropout(0.2),\n",
        "\n",
        "        tf.keras.layers.Conv2D(32, (3,3), activation='relu'),\n",
        "        tf.keras.layers.MaxPooling2D(2,2), \n",
        "        tf.keras.layers.Dropout(0.2),\n",
        "\n",
        "        tf.keras.layers.Conv2D(64, (3,3), activation='relu'),\n",
        "        tf.keras.layers.MaxPooling2D(2,2), \n",
        "\n",
        "        tf.keras.layers.Conv2D(128, (3,3), activation='relu'),\n",
        "        tf.keras.layers.MaxPooling2D(2,2), \n",
        "\n",
        "        tf.keras.layers.Flatten(), \n",
        "        tf.keras.layers.Dense(64, activation=\"relu\"),\n",
        "        tf.keras.layers.Dropout(0.2),\n",
        "        tf.keras.layers.Dense(NUM_CLASSES, activation=\"softmax\")\n",
        "    ])\n",
        "\n",
        "callback = tf.keras.callbacks.EarlyStopping(monitor='val_loss', patience=3,mode='min' )\n",
        "# This callback will stop the training when there is no improvement in\n",
        "# the loss for three consecutive epochs.\n",
        "\n",
        "model3.compile(\n",
        "    loss=\"categorical_crossentropy\",\n",
        "    optimizer=tf.keras.optimizers.Adam(),\n",
        "    metrics=[\"accuracy\"])\n",
        "\n",
        "history = model3.fit(train_generator,\n",
        "                      batch_size=BATCH_SIZE,\n",
        "                      epochs=EPOCHS,\n",
        "                      validation_data=test_generator,\n",
        "                      callbacks=[callback],\n",
        "                      shuffle=True)"
      ],
      "metadata": {
        "colab": {
          "base_uri": "https://localhost:8080/"
        },
        "id": "K5uPipZxEror",
        "outputId": "261e9c1c-e5e1-41ef-f72f-df7dcf16ede2"
      },
      "execution_count": null,
      "outputs": [
        {
          "output_type": "stream",
          "name": "stdout",
          "text": [
            "Epoch 1/100\n",
            "50/50 [==============================] - 11s 206ms/step - loss: 0.6935 - accuracy: 0.5044 - val_loss: 0.6932 - val_accuracy: 0.4975\n",
            "Epoch 2/100\n",
            "50/50 [==============================] - 10s 199ms/step - loss: 0.6852 - accuracy: 0.5881 - val_loss: 0.6753 - val_accuracy: 0.5650\n",
            "Epoch 3/100\n",
            "50/50 [==============================] - 10s 202ms/step - loss: 0.6772 - accuracy: 0.5775 - val_loss: 0.6645 - val_accuracy: 0.5875\n",
            "Epoch 4/100\n",
            "50/50 [==============================] - 10s 201ms/step - loss: 0.6457 - accuracy: 0.6394 - val_loss: 0.6386 - val_accuracy: 0.6400\n",
            "Epoch 5/100\n",
            "50/50 [==============================] - 11s 219ms/step - loss: 0.6383 - accuracy: 0.6256 - val_loss: 0.6634 - val_accuracy: 0.6200\n",
            "Epoch 6/100\n",
            "50/50 [==============================] - 10s 201ms/step - loss: 0.6104 - accuracy: 0.6587 - val_loss: 0.6328 - val_accuracy: 0.6225\n",
            "Epoch 7/100\n",
            "50/50 [==============================] - 10s 198ms/step - loss: 0.5878 - accuracy: 0.6737 - val_loss: 0.6300 - val_accuracy: 0.6400\n",
            "Epoch 8/100\n",
            "50/50 [==============================] - 10s 200ms/step - loss: 0.5660 - accuracy: 0.7069 - val_loss: 0.6001 - val_accuracy: 0.6725\n",
            "Epoch 9/100\n",
            "50/50 [==============================] - 10s 200ms/step - loss: 0.5302 - accuracy: 0.7319 - val_loss: 0.6213 - val_accuracy: 0.6625\n",
            "Epoch 10/100\n",
            "50/50 [==============================] - 10s 200ms/step - loss: 0.5228 - accuracy: 0.7419 - val_loss: 0.5731 - val_accuracy: 0.6875\n",
            "Epoch 11/100\n",
            "50/50 [==============================] - 10s 199ms/step - loss: 0.4845 - accuracy: 0.7581 - val_loss: 0.5524 - val_accuracy: 0.7150\n",
            "Epoch 12/100\n",
            "50/50 [==============================] - 10s 199ms/step - loss: 0.4492 - accuracy: 0.7975 - val_loss: 0.5345 - val_accuracy: 0.7200\n",
            "Epoch 13/100\n",
            "50/50 [==============================] - 10s 200ms/step - loss: 0.3912 - accuracy: 0.8231 - val_loss: 0.5474 - val_accuracy: 0.7375\n",
            "Epoch 14/100\n",
            "50/50 [==============================] - 10s 200ms/step - loss: 0.3446 - accuracy: 0.8444 - val_loss: 0.5919 - val_accuracy: 0.7200\n",
            "Epoch 15/100\n",
            "50/50 [==============================] - 10s 201ms/step - loss: 0.3371 - accuracy: 0.8444 - val_loss: 0.5907 - val_accuracy: 0.7475\n"
          ]
        }
      ]
    },
    {
      "cell_type": "code",
      "source": [
        "plt.plot(history.history['loss'])\n",
        "plt.plot(history.history['val_loss'])\n",
        "plt.title('model loss')\n",
        "plt.ylabel('loss')\n",
        "plt.xlabel('epoch')\n",
        "plt.legend(['train', 'val'], loc='upper left')\n",
        "plt.show()"
      ],
      "metadata": {
        "colab": {
          "base_uri": "https://localhost:8080/",
          "height": 295
        },
        "id": "WGQ8HqIXK_JL",
        "outputId": "c3faa04f-2bec-4ce3-b5b3-9719dbfdc0e5"
      },
      "execution_count": null,
      "outputs": [
        {
          "output_type": "display_data",
          "data": {
            "text/plain": [
              "<Figure size 432x288 with 1 Axes>"
            ],
            "image/png": "[encoded data removed]"
          },
          "metadata": {
            "needs_background": "light"
          }
        }
      ]
    },
    {
      "cell_type": "code",
      "source": [
        "visualkeras.layered_view(model3,legend=True, draw_volume=True)"
      ],
      "metadata": {
        "colab": {
          "base_uri": "https://localhost:8080/",
          "height": 1000
        },
        "id": "wdaqoghiLDJ4",
        "outputId": "890a3034-0467-47b9-8999-bdc53900e026"
      },
      "execution_count": null,
      "outputs": [
        {
          "output_type": "execute_result",
          "data": {
            "text/plain": [
              "<PIL.Image.Image image mode=RGBA size=1072x1626 at 0x7FC03EFF43A0>"
            ],
            "image/png": "[encoded data removed]"
          },
          "metadata": {},
          "execution_count": 79
        }
      ]
    },
    {
      "cell_type": "markdown",
      "source": [
        "## 5 Fold Cross Validation with Optuna (Model 3)"
      ],
      "metadata": {
        "id": "NOgbh8T8pUsU"
      }
    },
    {
      "cell_type": "code",
      "source": [
        "n_train_iter = 1\n",
        "def objective(trial):\n",
        "    # Parameters\n",
        "    batch_size = trial.suggest_int(\"batch_size\", 2, 8, step=2)\n",
        "    epochs = trial.suggest_int(\"epochs\", 10,50, step=10)\n",
        "    lr = trial.suggest_float(\"learning_rate\", 1e-5, 1e-2, log=True)\n",
        "    opt = trial.suggest_categorical(\"optimizer\", [Adam, SGD, RMSprop])\n",
        "\n",
        "    # Model\n",
        "    model3 = tf.keras.models.Sequential([\n",
        "        tf.keras.layers.Conv2D(8, (3,3), activation='relu', input_shape=(img_height, img_width, 3)),\n",
        "        tf.keras.layers.MaxPooling2D(2,2),\n",
        "\n",
        "        tf.keras.layers.Conv2D(16, (3,3), activation='relu'),\n",
        "        tf.keras.layers.MaxPooling2D(2,2), \n",
        "        tf.keras.layers.Dropout(0.2),\n",
        "\n",
        "        tf.keras.layers.Conv2D(32, (3,3), activation='relu'),\n",
        "        tf.keras.layers.MaxPooling2D(2,2), \n",
        "        tf.keras.layers.Dropout(0.2),\n",
        "\n",
        "        tf.keras.layers.Conv2D(64, (3,3), activation='relu'),\n",
        "        tf.keras.layers.MaxPooling2D(2,2), \n",
        "\n",
        "        tf.keras.layers.Conv2D(128, (3,3), activation='relu'),\n",
        "        tf.keras.layers.MaxPooling2D(2,2), \n",
        "\n",
        "        tf.keras.layers.Flatten(), \n",
        "        tf.keras.layers.Dense(64, activation=\"relu\"),\n",
        "        tf.keras.layers.Dropout(0.2),\n",
        "        tf.keras.layers.Dense(NUM_CLASSES, activation=\"softmax\")\n",
        "    ])\n",
        "    for step in range(n_train_iter):\n",
        "        callback = tf.keras.callbacks.EarlyStopping(monitor='val_loss', patience=3, mode='min')\n",
        "        model3.compile(optimizer=opt(lr=lr), loss='categorical_crossentropy', metrics=['accuracy'])\n",
        "        H = model3.fit(train_generator,batch_size=batch_size,callbacks=[callback],\n",
        "                epochs=epochs,validation_data=test_generator,shuffle=True)\n",
        "        \n",
        "        val_loss, val_acc = model3.evaluate(test_generator)\n",
        "        trial.report(val_acc, step)\n",
        "\n",
        "        if trial.should_prune():\n",
        "            raise optuna.TrialPruned()\n",
        "    \n",
        "    return val_loss # optuna değerlendirmesini en küçük değere göre yapıyor o yüzden loss döndürdüm. Accuracy döndürdüğümde acc büyüdükçe bunu kötü bir şeymiş gibi algıladı.\n",
        "\n",
        "\n",
        "# Default Sampler is Tree-structured Parzen Estimator algorithm\n",
        "\n",
        "study = optuna.create_study()  # Create a new study.\n",
        "start = time.time()\n",
        "study.optimize(objective, n_trials=5)\n",
        "end = time.time()"
      ],
      "metadata": {
        "colab": {
          "base_uri": "https://localhost:8080/"
        },
        "id": "8ditCLvEo-tq",
        "outputId": "73b6d9ba-63bb-467a-b68d-3d04fcf6d149"
      },
      "execution_count": null,
      "outputs": [
        {
          "output_type": "stream",
          "name": "stderr",
          "text": [
            "\u001b[32m[I 2022-12-25 12:10:10,837]\u001b[0m A new study created in memory with name: no-name-4733295c-4fd2-438f-8f78-7e783f0cb0a0\u001b[0m\n"
          ]
        },
        {
          "output_type": "stream",
          "name": "stdout",
          "text": [
            "Epoch 1/30\n",
            "50/50 [==============================] - 11s 206ms/step - loss: 0.7000 - accuracy: 0.4863 - val_loss: 0.6948 - val_accuracy: 0.5000\n",
            "Epoch 2/30\n",
            "50/50 [==============================] - 10s 200ms/step - loss: 0.7013 - accuracy: 0.4844 - val_loss: 0.6946 - val_accuracy: 0.5000\n",
            "Epoch 3/30\n",
            "50/50 [==============================] - 10s 201ms/step - loss: 0.7003 - accuracy: 0.4688 - val_loss: 0.6944 - val_accuracy: 0.5000\n",
            "Epoch 4/30\n",
            "50/50 [==============================] - 10s 199ms/step - loss: 0.6994 - accuracy: 0.4775 - val_loss: 0.6943 - val_accuracy: 0.5025\n",
            "Epoch 5/30\n",
            "50/50 [==============================] - 11s 220ms/step - loss: 0.6994 - accuracy: 0.4881 - val_loss: 0.6942 - val_accuracy: 0.5075\n",
            "Epoch 6/30\n",
            "50/50 [==============================] - 10s 201ms/step - loss: 0.6957 - accuracy: 0.4988 - val_loss: 0.6941 - val_accuracy: 0.5000\n",
            "Epoch 7/30\n",
            "50/50 [==============================] - 10s 200ms/step - loss: 0.6977 - accuracy: 0.4844 - val_loss: 0.6940 - val_accuracy: 0.5050\n",
            "Epoch 8/30\n",
            "50/50 [==============================] - 10s 198ms/step - loss: 0.6980 - accuracy: 0.4781 - val_loss: 0.6939 - val_accuracy: 0.5000\n",
            "Epoch 9/30\n",
            "50/50 [==============================] - 10s 199ms/step - loss: 0.6968 - accuracy: 0.5050 - val_loss: 0.6938 - val_accuracy: 0.5000\n",
            "Epoch 10/30\n",
            "50/50 [==============================] - 10s 201ms/step - loss: 0.6978 - accuracy: 0.4819 - val_loss: 0.6937 - val_accuracy: 0.4975\n",
            "Epoch 11/30\n",
            "50/50 [==============================] - 10s 199ms/step - loss: 0.6966 - accuracy: 0.4906 - val_loss: 0.6936 - val_accuracy: 0.4900\n",
            "Epoch 12/30\n",
            "50/50 [==============================] - 10s 201ms/step - loss: 0.6984 - accuracy: 0.4737 - val_loss: 0.6936 - val_accuracy: 0.4850\n",
            "Epoch 13/30\n",
            "50/50 [==============================] - 10s 206ms/step - loss: 0.6964 - accuracy: 0.4944 - val_loss: 0.6935 - val_accuracy: 0.4750\n",
            "Epoch 14/30\n",
            "50/50 [==============================] - 10s 202ms/step - loss: 0.6972 - accuracy: 0.4875 - val_loss: 0.6934 - val_accuracy: 0.4775\n",
            "Epoch 15/30\n",
            "50/50 [==============================] - 10s 199ms/step - loss: 0.6964 - accuracy: 0.4925 - val_loss: 0.6934 - val_accuracy: 0.4800\n",
            "Epoch 16/30\n",
            "50/50 [==============================] - 10s 199ms/step - loss: 0.6956 - accuracy: 0.4906 - val_loss: 0.6933 - val_accuracy: 0.4700\n",
            "Epoch 17/30\n",
            "50/50 [==============================] - 10s 199ms/step - loss: 0.6951 - accuracy: 0.4837 - val_loss: 0.6933 - val_accuracy: 0.4675\n",
            "Epoch 18/30\n",
            "50/50 [==============================] - 10s 202ms/step - loss: 0.6961 - accuracy: 0.4931 - val_loss: 0.6932 - val_accuracy: 0.4725\n",
            "Epoch 19/30\n",
            "50/50 [==============================] - 10s 200ms/step - loss: 0.6947 - accuracy: 0.4806 - val_loss: 0.6932 - val_accuracy: 0.4725\n",
            "Epoch 20/30\n",
            "50/50 [==============================] - 11s 220ms/step - loss: 0.6945 - accuracy: 0.5056 - val_loss: 0.6931 - val_accuracy: 0.4650\n",
            "Epoch 21/30\n",
            "50/50 [==============================] - 10s 200ms/step - loss: 0.6943 - accuracy: 0.5181 - val_loss: 0.6931 - val_accuracy: 0.4725\n",
            "Epoch 22/30\n",
            "50/50 [==============================] - 10s 200ms/step - loss: 0.6950 - accuracy: 0.4888 - val_loss: 0.6931 - val_accuracy: 0.4775\n",
            "Epoch 23/30\n",
            "50/50 [==============================] - 10s 198ms/step - loss: 0.6951 - accuracy: 0.4950 - val_loss: 0.6930 - val_accuracy: 0.4875\n",
            "Epoch 24/30\n",
            "50/50 [==============================] - 10s 201ms/step - loss: 0.6935 - accuracy: 0.5144 - val_loss: 0.6930 - val_accuracy: 0.4975\n",
            "Epoch 25/30\n",
            "50/50 [==============================] - 10s 199ms/step - loss: 0.6954 - accuracy: 0.4975 - val_loss: 0.6930 - val_accuracy: 0.4925\n",
            "Epoch 26/30\n",
            "50/50 [==============================] - 10s 198ms/step - loss: 0.6944 - accuracy: 0.4938 - val_loss: 0.6929 - val_accuracy: 0.5050\n",
            "Epoch 27/30\n",
            "50/50 [==============================] - 10s 200ms/step - loss: 0.6956 - accuracy: 0.5013 - val_loss: 0.6929 - val_accuracy: 0.5250\n",
            "Epoch 28/30\n",
            "50/50 [==============================] - 10s 199ms/step - loss: 0.6941 - accuracy: 0.5094 - val_loss: 0.6929 - val_accuracy: 0.5300\n",
            "Epoch 29/30\n",
            "50/50 [==============================] - 10s 200ms/step - loss: 0.6950 - accuracy: 0.4981 - val_loss: 0.6928 - val_accuracy: 0.5275\n",
            "Epoch 30/30\n",
            "50/50 [==============================] - 10s 199ms/step - loss: 0.6937 - accuracy: 0.5013 - val_loss: 0.6928 - val_accuracy: 0.5325\n",
            "13/13 [==============================] - 2s 143ms/step - loss: 0.6928 - accuracy: 0.5325\n"
          ]
        },
        {
          "output_type": "stream",
          "name": "stderr",
          "text": [
            "\u001b[32m[I 2022-12-25 12:15:17,869]\u001b[0m Trial 0 finished with value: 0.6927986145019531 and parameters: {'batch_size': 6, 'epochs': 30, 'learning_rate': 5.739882783710739e-05, 'optimizer': <class 'keras.optimizers.optimizer_v2.gradient_descent.SGD'>}. Best is trial 0 with value: 0.6927986145019531.\u001b[0m\n"
          ]
        },
        {
          "output_type": "stream",
          "name": "stdout",
          "text": [
            "Epoch 1/10\n",
            "50/50 [==============================] - 11s 205ms/step - loss: 0.6935 - accuracy: 0.5119 - val_loss: 0.6918 - val_accuracy: 0.5075\n",
            "Epoch 2/10\n",
            "50/50 [==============================] - 10s 198ms/step - loss: 0.6908 - accuracy: 0.5200 - val_loss: 0.6921 - val_accuracy: 0.5200\n",
            "Epoch 3/10\n",
            "50/50 [==============================] - 10s 199ms/step - loss: 0.6897 - accuracy: 0.5444 - val_loss: 0.6914 - val_accuracy: 0.5525\n",
            "Epoch 4/10\n",
            "50/50 [==============================] - 10s 209ms/step - loss: 0.6889 - accuracy: 0.5381 - val_loss: 0.6914 - val_accuracy: 0.5050\n",
            "Epoch 5/10\n",
            "50/50 [==============================] - 10s 204ms/step - loss: 0.6872 - accuracy: 0.5506 - val_loss: 0.6913 - val_accuracy: 0.4975\n",
            "Epoch 6/10\n",
            "50/50 [==============================] - 10s 199ms/step - loss: 0.6866 - accuracy: 0.5238 - val_loss: 0.6929 - val_accuracy: 0.5000\n",
            "Epoch 7/10\n",
            "50/50 [==============================] - 10s 199ms/step - loss: 0.6858 - accuracy: 0.5594 - val_loss: 0.6894 - val_accuracy: 0.5475\n",
            "Epoch 8/10\n",
            "50/50 [==============================] - 10s 197ms/step - loss: 0.6842 - accuracy: 0.5656 - val_loss: 0.6894 - val_accuracy: 0.5300\n",
            "Epoch 9/10\n",
            "50/50 [==============================] - 10s 200ms/step - loss: 0.6842 - accuracy: 0.5587 - val_loss: 0.6889 - val_accuracy: 0.5275\n",
            "Epoch 10/10\n",
            "50/50 [==============================] - 10s 199ms/step - loss: 0.6808 - accuracy: 0.5638 - val_loss: 0.6884 - val_accuracy: 0.5175\n",
            "13/13 [==============================] - 2s 144ms/step - loss: 0.6884 - accuracy: 0.5175\n"
          ]
        },
        {
          "output_type": "stream",
          "name": "stderr",
          "text": [
            "\u001b[32m[I 2022-12-25 12:17:01,751]\u001b[0m Trial 1 finished with value: 0.6883586645126343 and parameters: {'batch_size': 4, 'epochs': 10, 'learning_rate': 0.005903049554604443, 'optimizer': <class 'keras.optimizers.optimizer_v2.gradient_descent.SGD'>}. Best is trial 1 with value: 0.6883586645126343.\u001b[0m\n"
          ]
        },
        {
          "output_type": "stream",
          "name": "stdout",
          "text": [
            "Epoch 1/30\n",
            "50/50 [==============================] - 11s 205ms/step - loss: 0.6971 - accuracy: 0.5088 - val_loss: 0.6923 - val_accuracy: 0.5000\n",
            "Epoch 2/30\n",
            "50/50 [==============================] - 10s 199ms/step - loss: 0.6922 - accuracy: 0.5094 - val_loss: 0.6918 - val_accuracy: 0.5800\n",
            "Epoch 3/30\n",
            "50/50 [==============================] - 10s 203ms/step - loss: 0.6898 - accuracy: 0.5525 - val_loss: 0.6869 - val_accuracy: 0.5900\n",
            "Epoch 4/30\n",
            "50/50 [==============================] - 10s 201ms/step - loss: 0.6817 - accuracy: 0.5575 - val_loss: 0.6864 - val_accuracy: 0.5350\n",
            "Epoch 5/30\n",
            "50/50 [==============================] - 10s 199ms/step - loss: 0.6585 - accuracy: 0.6044 - val_loss: 0.6598 - val_accuracy: 0.6100\n",
            "Epoch 6/30\n",
            "50/50 [==============================] - 10s 198ms/step - loss: 0.6438 - accuracy: 0.6212 - val_loss: 0.6428 - val_accuracy: 0.6225\n",
            "Epoch 7/30\n",
            "50/50 [==============================] - 10s 198ms/step - loss: 0.6164 - accuracy: 0.6669 - val_loss: 0.6366 - val_accuracy: 0.6450\n",
            "Epoch 8/30\n",
            "50/50 [==============================] - 10s 200ms/step - loss: 0.5799 - accuracy: 0.6875 - val_loss: 0.6473 - val_accuracy: 0.6425\n",
            "Epoch 9/30\n",
            "50/50 [==============================] - 11s 217ms/step - loss: 0.5522 - accuracy: 0.7237 - val_loss: 0.5964 - val_accuracy: 0.6800\n",
            "Epoch 10/30\n",
            "50/50 [==============================] - 10s 198ms/step - loss: 0.5229 - accuracy: 0.7469 - val_loss: 0.5834 - val_accuracy: 0.6725\n",
            "Epoch 11/30\n",
            "50/50 [==============================] - 10s 199ms/step - loss: 0.5016 - accuracy: 0.7462 - val_loss: 0.6173 - val_accuracy: 0.6725\n",
            "Epoch 12/30\n",
            "50/50 [==============================] - 10s 199ms/step - loss: 0.4854 - accuracy: 0.7606 - val_loss: 0.6019 - val_accuracy: 0.6550\n",
            "Epoch 13/30\n",
            "50/50 [==============================] - 10s 200ms/step - loss: 0.4690 - accuracy: 0.7856 - val_loss: 0.5891 - val_accuracy: 0.6875\n",
            "13/13 [==============================] - 2s 145ms/step - loss: 0.5891 - accuracy: 0.6875\n"
          ]
        },
        {
          "output_type": "stream",
          "name": "stderr",
          "text": [
            "\u001b[32m[I 2022-12-25 12:19:16,243]\u001b[0m Trial 2 finished with value: 0.5891382098197937 and parameters: {'batch_size': 4, 'epochs': 30, 'learning_rate': 0.00041100701877066267, 'optimizer': <class 'keras.optimizers.optimizer_v2.adam.Adam'>}. Best is trial 2 with value: 0.5891382098197937.\u001b[0m\n"
          ]
        },
        {
          "output_type": "stream",
          "name": "stdout",
          "text": [
            "Epoch 1/30\n",
            "50/50 [==============================] - 11s 205ms/step - loss: 0.7092 - accuracy: 0.5150 - val_loss: 0.6963 - val_accuracy: 0.5000\n",
            "Epoch 2/30\n",
            "50/50 [==============================] - 10s 198ms/step - loss: 0.7043 - accuracy: 0.4725 - val_loss: 0.6949 - val_accuracy: 0.4900\n",
            "Epoch 3/30\n",
            "50/50 [==============================] - 10s 198ms/step - loss: 0.7039 - accuracy: 0.4913 - val_loss: 0.6945 - val_accuracy: 0.5075\n",
            "Epoch 4/30\n",
            "50/50 [==============================] - 10s 198ms/step - loss: 0.6986 - accuracy: 0.4875 - val_loss: 0.6943 - val_accuracy: 0.4850\n",
            "Epoch 5/30\n",
            "50/50 [==============================] - 10s 197ms/step - loss: 0.6982 - accuracy: 0.5031 - val_loss: 0.6941 - val_accuracy: 0.4800\n",
            "Epoch 6/30\n",
            "50/50 [==============================] - 10s 199ms/step - loss: 0.6969 - accuracy: 0.5006 - val_loss: 0.6939 - val_accuracy: 0.4800\n",
            "Epoch 7/30\n",
            "50/50 [==============================] - 10s 201ms/step - loss: 0.6963 - accuracy: 0.5206 - val_loss: 0.6939 - val_accuracy: 0.4775\n",
            "Epoch 8/30\n",
            "50/50 [==============================] - 10s 199ms/step - loss: 0.6931 - accuracy: 0.5206 - val_loss: 0.6938 - val_accuracy: 0.4800\n",
            "Epoch 9/30\n",
            "50/50 [==============================] - 10s 197ms/step - loss: 0.6981 - accuracy: 0.5200 - val_loss: 0.6938 - val_accuracy: 0.4800\n",
            "Epoch 10/30\n",
            "50/50 [==============================] - 10s 199ms/step - loss: 0.6961 - accuracy: 0.5144 - val_loss: 0.6937 - val_accuracy: 0.4750\n",
            "Epoch 11/30\n",
            "50/50 [==============================] - 11s 218ms/step - loss: 0.6946 - accuracy: 0.5056 - val_loss: 0.6934 - val_accuracy: 0.4900\n",
            "Epoch 12/30\n",
            "50/50 [==============================] - 10s 198ms/step - loss: 0.6990 - accuracy: 0.4969 - val_loss: 0.6934 - val_accuracy: 0.4825\n",
            "Epoch 13/30\n",
            "50/50 [==============================] - 10s 199ms/step - loss: 0.6938 - accuracy: 0.5063 - val_loss: 0.6933 - val_accuracy: 0.4800\n",
            "Epoch 14/30\n",
            "50/50 [==============================] - 10s 198ms/step - loss: 0.6943 - accuracy: 0.5281 - val_loss: 0.6932 - val_accuracy: 0.4825\n",
            "Epoch 15/30\n",
            "50/50 [==============================] - 10s 198ms/step - loss: 0.6960 - accuracy: 0.5081 - val_loss: 0.6932 - val_accuracy: 0.4725\n",
            "Epoch 16/30\n",
            "50/50 [==============================] - 10s 199ms/step - loss: 0.6915 - accuracy: 0.5156 - val_loss: 0.6930 - val_accuracy: 0.4750\n",
            "Epoch 17/30\n",
            "50/50 [==============================] - 10s 196ms/step - loss: 0.6896 - accuracy: 0.5263 - val_loss: 0.6930 - val_accuracy: 0.4750\n",
            "Epoch 18/30\n",
            "50/50 [==============================] - 10s 199ms/step - loss: 0.6973 - accuracy: 0.5019 - val_loss: 0.6929 - val_accuracy: 0.4825\n",
            "Epoch 19/30\n",
            "50/50 [==============================] - 10s 199ms/step - loss: 0.6962 - accuracy: 0.5069 - val_loss: 0.6928 - val_accuracy: 0.4775\n",
            "Epoch 20/30\n",
            "50/50 [==============================] - 10s 199ms/step - loss: 0.6939 - accuracy: 0.5256 - val_loss: 0.6927 - val_accuracy: 0.4750\n",
            "Epoch 21/30\n",
            "50/50 [==============================] - 10s 201ms/step - loss: 0.6943 - accuracy: 0.5025 - val_loss: 0.6926 - val_accuracy: 0.4725\n",
            "Epoch 22/30\n",
            "50/50 [==============================] - 10s 201ms/step - loss: 0.6960 - accuracy: 0.5175 - val_loss: 0.6925 - val_accuracy: 0.4675\n",
            "Epoch 23/30\n",
            "50/50 [==============================] - 10s 198ms/step - loss: 0.6932 - accuracy: 0.5175 - val_loss: 0.6925 - val_accuracy: 0.4775\n",
            "Epoch 24/30\n",
            "50/50 [==============================] - 10s 198ms/step - loss: 0.6925 - accuracy: 0.5200 - val_loss: 0.6925 - val_accuracy: 0.4850\n",
            "Epoch 25/30\n",
            "50/50 [==============================] - 10s 199ms/step - loss: 0.6921 - accuracy: 0.5150 - val_loss: 0.6923 - val_accuracy: 0.4625\n",
            "Epoch 26/30\n",
            "50/50 [==============================] - 11s 219ms/step - loss: 0.6930 - accuracy: 0.5250 - val_loss: 0.6923 - val_accuracy: 0.4825\n",
            "Epoch 27/30\n",
            "50/50 [==============================] - 10s 197ms/step - loss: 0.6938 - accuracy: 0.5113 - val_loss: 0.6923 - val_accuracy: 0.4850\n",
            "Epoch 28/30\n",
            "50/50 [==============================] - 10s 199ms/step - loss: 0.6918 - accuracy: 0.5181 - val_loss: 0.6922 - val_accuracy: 0.4850\n",
            "Epoch 29/30\n",
            "50/50 [==============================] - 10s 198ms/step - loss: 0.6952 - accuracy: 0.5006 - val_loss: 0.6922 - val_accuracy: 0.4825\n",
            "Epoch 30/30\n",
            "50/50 [==============================] - 10s 198ms/step - loss: 0.6927 - accuracy: 0.5075 - val_loss: 0.6921 - val_accuracy: 0.4850\n",
            "13/13 [==============================] - 2s 146ms/step - loss: 0.6921 - accuracy: 0.4850\n"
          ]
        },
        {
          "output_type": "stream",
          "name": "stderr",
          "text": [
            "\u001b[32m[I 2022-12-25 12:24:21,093]\u001b[0m Trial 3 finished with value: 0.6920881867408752 and parameters: {'batch_size': 8, 'epochs': 30, 'learning_rate': 0.0001640462363267712, 'optimizer': <class 'keras.optimizers.optimizer_v2.gradient_descent.SGD'>}. Best is trial 2 with value: 0.5891382098197937.\u001b[0m\n"
          ]
        },
        {
          "output_type": "stream",
          "name": "stdout",
          "text": [
            "Epoch 1/40\n",
            "50/50 [==============================] - 11s 207ms/step - loss: 0.6937 - accuracy: 0.4950 - val_loss: 0.6924 - val_accuracy: 0.4950\n",
            "Epoch 2/40\n",
            "50/50 [==============================] - 10s 198ms/step - loss: 0.6922 - accuracy: 0.5213 - val_loss: 0.6919 - val_accuracy: 0.5350\n",
            "Epoch 3/40\n",
            "50/50 [==============================] - 10s 198ms/step - loss: 0.6935 - accuracy: 0.5100 - val_loss: 0.6914 - val_accuracy: 0.5325\n",
            "Epoch 4/40\n",
            "50/50 [==============================] - 10s 199ms/step - loss: 0.6908 - accuracy: 0.5263 - val_loss: 0.6912 - val_accuracy: 0.5350\n",
            "Epoch 5/40\n",
            "50/50 [==============================] - 10s 198ms/step - loss: 0.6889 - accuracy: 0.5331 - val_loss: 0.6905 - val_accuracy: 0.5625\n",
            "Epoch 6/40\n",
            "50/50 [==============================] - 10s 198ms/step - loss: 0.6893 - accuracy: 0.5356 - val_loss: 0.6901 - val_accuracy: 0.5625\n",
            "Epoch 7/40\n",
            "50/50 [==============================] - 10s 198ms/step - loss: 0.6891 - accuracy: 0.5406 - val_loss: 0.6897 - val_accuracy: 0.5650\n",
            "Epoch 8/40\n",
            "50/50 [==============================] - 10s 198ms/step - loss: 0.6869 - accuracy: 0.5550 - val_loss: 0.6891 - val_accuracy: 0.5700\n",
            "Epoch 9/40\n",
            "50/50 [==============================] - 10s 198ms/step - loss: 0.6865 - accuracy: 0.5450 - val_loss: 0.6888 - val_accuracy: 0.5800\n",
            "Epoch 10/40\n",
            "50/50 [==============================] - 11s 217ms/step - loss: 0.6858 - accuracy: 0.5569 - val_loss: 0.6887 - val_accuracy: 0.5500\n",
            "Epoch 11/40\n",
            "50/50 [==============================] - 10s 197ms/step - loss: 0.6846 - accuracy: 0.5619 - val_loss: 0.6874 - val_accuracy: 0.5800\n",
            "Epoch 12/40\n",
            "50/50 [==============================] - 10s 198ms/step - loss: 0.6842 - accuracy: 0.5544 - val_loss: 0.6873 - val_accuracy: 0.5600\n",
            "Epoch 13/40\n",
            "50/50 [==============================] - 10s 198ms/step - loss: 0.6810 - accuracy: 0.5731 - val_loss: 0.6865 - val_accuracy: 0.5850\n",
            "Epoch 14/40\n",
            "50/50 [==============================] - 10s 197ms/step - loss: 0.6847 - accuracy: 0.5544 - val_loss: 0.6862 - val_accuracy: 0.5875\n",
            "Epoch 15/40\n",
            "50/50 [==============================] - 10s 198ms/step - loss: 0.6817 - accuracy: 0.5644 - val_loss: 0.6865 - val_accuracy: 0.5375\n",
            "Epoch 16/40\n",
            "50/50 [==============================] - 10s 200ms/step - loss: 0.6794 - accuracy: 0.5669 - val_loss: 0.6842 - val_accuracy: 0.5875\n",
            "Epoch 17/40\n",
            "50/50 [==============================] - 10s 198ms/step - loss: 0.6822 - accuracy: 0.5675 - val_loss: 0.6861 - val_accuracy: 0.5575\n",
            "Epoch 18/40\n",
            "50/50 [==============================] - 10s 198ms/step - loss: 0.6787 - accuracy: 0.5769 - val_loss: 0.6833 - val_accuracy: 0.5925\n",
            "Epoch 19/40\n",
            "50/50 [==============================] - 10s 197ms/step - loss: 0.6799 - accuracy: 0.5594 - val_loss: 0.6832 - val_accuracy: 0.5875\n",
            "Epoch 20/40\n",
            "50/50 [==============================] - 10s 196ms/step - loss: 0.6763 - accuracy: 0.5731 - val_loss: 0.6838 - val_accuracy: 0.5700\n",
            "Epoch 21/40\n",
            "50/50 [==============================] - 10s 200ms/step - loss: 0.6762 - accuracy: 0.5806 - val_loss: 0.6842 - val_accuracy: 0.5425\n",
            "Epoch 22/40\n",
            "50/50 [==============================] - 10s 202ms/step - loss: 0.6761 - accuracy: 0.5806 - val_loss: 0.6838 - val_accuracy: 0.5525\n",
            "13/13 [==============================] - 2s 143ms/step - loss: 0.6838 - accuracy: 0.5525\n"
          ]
        },
        {
          "output_type": "stream",
          "name": "stderr",
          "text": [
            "\u001b[32m[I 2022-12-25 12:28:05,072]\u001b[0m Trial 4 finished with value: 0.6837530732154846 and parameters: {'batch_size': 8, 'epochs': 40, 'learning_rate': 0.003757389361335456, 'optimizer': <class 'keras.optimizers.optimizer_v2.gradient_descent.SGD'>}. Best is trial 2 with value: 0.5891382098197937.\u001b[0m\n"
          ]
        }
      ]
    },
    {
      "cell_type": "code",
      "source": [
        "study.best_trial"
      ],
      "metadata": {
        "colab": {
          "base_uri": "https://localhost:8080/"
        },
        "id": "5onogKje4A3J",
        "outputId": "9f01f3dd-d5fe-41c2-a30a-beac58e30e7d"
      },
      "execution_count": null,
      "outputs": [
        {
          "output_type": "execute_result",
          "data": {
            "text/plain": [
              "FrozenTrial(number=2, values=[0.5891382098197937], datetime_start=datetime.datetime(2022, 12, 25, 12, 17, 1, 752587), datetime_complete=datetime.datetime(2022, 12, 25, 12, 19, 16, 242944), params={'batch_size': 4, 'epochs': 30, 'learning_rate': 0.00041100701877066267, 'optimizer': <class 'keras.optimizers.optimizer_v2.adam.Adam'>}, distributions={'batch_size': IntDistribution(high=8, log=False, low=2, step=2), 'epochs': IntDistribution(high=50, log=False, low=10, step=10), 'learning_rate': FloatDistribution(high=0.01, log=True, low=1e-05, step=None), 'optimizer': CategoricalDistribution(choices=(<class 'keras.optimizers.optimizer_v2.adam.Adam'>, <class 'keras.optimizers.optimizer_v2.gradient_descent.SGD'>, <class 'keras.optimizers.optimizer_v2.rmsprop.RMSprop'>))}, user_attrs={}, system_attrs={}, intermediate_values={0: 0.6875}, trial_id=2, state=TrialState.COMPLETE, value=None)"
            ]
          },
          "metadata": {},
          "execution_count": 81
        }
      ]
    },
    {
      "cell_type": "code",
      "source": [
        "# params={'batch_size': 4, 'epochs': 30, 'learning_rate': 0.00041100701877066267, 'optimizer': <class 'keras.optimizers.optimizer_v2.adam.Adam'>}\n",
        "model3 = tf.keras.models.Sequential([\n",
        "        tf.keras.layers.Conv2D(8, (3,3), activation='relu', input_shape=(img_height, img_width, 3)),\n",
        "        tf.keras.layers.MaxPooling2D(2,2),\n",
        "\n",
        "        tf.keras.layers.Conv2D(16, (3,3), activation='relu'),\n",
        "        tf.keras.layers.MaxPooling2D(2,2), \n",
        "        tf.keras.layers.Dropout(0.2),\n",
        "\n",
        "        tf.keras.layers.Conv2D(32, (3,3), activation='relu'),\n",
        "        tf.keras.layers.MaxPooling2D(2,2), \n",
        "        tf.keras.layers.Dropout(0.2),\n",
        "\n",
        "        tf.keras.layers.Conv2D(64, (3,3), activation='relu'),\n",
        "        tf.keras.layers.MaxPooling2D(2,2), \n",
        "\n",
        "        tf.keras.layers.Conv2D(128, (3,3), activation='relu'),\n",
        "        tf.keras.layers.MaxPooling2D(2,2), \n",
        "\n",
        "        tf.keras.layers.Flatten(), \n",
        "        tf.keras.layers.Dense(64, activation=\"relu\"),\n",
        "        tf.keras.layers.Dropout(0.2),\n",
        "        tf.keras.layers.Dense(NUM_CLASSES, activation=\"softmax\")\n",
        "    ])\n",
        "\n",
        "callback = tf.keras.callbacks.EarlyStopping(monitor='val_loss', patience=3, mode='min')\n",
        "model3.compile(optimizer=Adam(lr=0.00041100701877066267), loss='categorical_crossentropy', metrics=['accuracy'])\n",
        "H = model3.fit(train_generator,batch_size=4,callbacks=[callback],\n",
        "        epochs=30,validation_data=test_generator,shuffle=True)\n",
        "\n",
        "plt.plot(H.history['loss'])\n",
        "plt.plot(H.history['val_loss'])\n",
        "plt.title('model loss')\n",
        "plt.ylabel('loss')\n",
        "plt.xlabel('epoch')\n",
        "plt.legend(['train', 'val'], loc='upper left')\n",
        "plt.show()"
      ],
      "metadata": {
        "colab": {
          "base_uri": "https://localhost:8080/",
          "height": 635
        },
        "id": "oaGeJO812kl8",
        "outputId": "d2af85d1-37e4-47f1-eeff-ffc778659ec3"
      },
      "execution_count": 13,
      "outputs": [
        {
          "output_type": "stream",
          "name": "stdout",
          "text": [
            "Epoch 1/30\n",
            "50/50 [==============================] - 12s 224ms/step - loss: 0.6922 - accuracy: 0.5063 - val_loss: 0.6907 - val_accuracy: 0.5625\n",
            "Epoch 2/30\n",
            "50/50 [==============================] - 14s 291ms/step - loss: 0.6744 - accuracy: 0.5856 - val_loss: 0.6801 - val_accuracy: 0.5625\n",
            "Epoch 3/30\n",
            "50/50 [==============================] - 10s 205ms/step - loss: 0.6517 - accuracy: 0.6162 - val_loss: 0.6619 - val_accuracy: 0.6225\n",
            "Epoch 4/30\n",
            "50/50 [==============================] - 11s 217ms/step - loss: 0.6277 - accuracy: 0.6475 - val_loss: 0.6360 - val_accuracy: 0.6375\n",
            "Epoch 5/30\n",
            "50/50 [==============================] - 10s 203ms/step - loss: 0.5957 - accuracy: 0.6850 - val_loss: 0.5828 - val_accuracy: 0.6950\n",
            "Epoch 6/30\n",
            "50/50 [==============================] - 10s 203ms/step - loss: 0.5610 - accuracy: 0.7100 - val_loss: 0.5782 - val_accuracy: 0.7125\n",
            "Epoch 7/30\n",
            "50/50 [==============================] - 10s 208ms/step - loss: 0.5457 - accuracy: 0.7344 - val_loss: 0.5701 - val_accuracy: 0.7175\n",
            "Epoch 8/30\n",
            "50/50 [==============================] - 10s 205ms/step - loss: 0.5036 - accuracy: 0.7631 - val_loss: 0.6040 - val_accuracy: 0.6700\n",
            "Epoch 9/30\n",
            "50/50 [==============================] - 10s 205ms/step - loss: 0.4944 - accuracy: 0.7631 - val_loss: 0.5742 - val_accuracy: 0.7050\n",
            "Epoch 10/30\n",
            "50/50 [==============================] - 11s 229ms/step - loss: 0.4644 - accuracy: 0.7837 - val_loss: 0.5718 - val_accuracy: 0.7075\n"
          ]
        },
        {
          "output_type": "display_data",
          "data": {
            "text/plain": [
              "<Figure size 432x288 with 1 Axes>"
            ],
            "image/png": "[encoded data removed]"
          },
          "metadata": {
            "needs_background": "light"
          }
        }
      ]
    },
    {
      "cell_type": "markdown",
      "source": [
        "# Model 4"
      ],
      "metadata": {
        "id": "_jRYyyaKo76U"
      }
    },
    {
      "cell_type": "code",
      "source": [
        "class ResnetBlock(Model):\n",
        "    \"\"\"\n",
        "    A standard resnet block.\n",
        "    \"\"\"\n",
        "\n",
        "    def __init__(self, channels: int, down_sample=False):\n",
        "        \"\"\"\n",
        "        channels: same as number of convolution kernels\n",
        "        \"\"\"\n",
        "        super().__init__()\n",
        "\n",
        "        self.__channels = channels\n",
        "        self.__down_sample = down_sample\n",
        "        self.__strides = [2, 1] if down_sample else [1, 1]\n",
        "\n",
        "        KERNEL_SIZE = (3, 3)\n",
        "        # use He initialization, instead of Xavier (a.k.a 'glorot_uniform' in Keras), as suggested in [2]\n",
        "        INIT_SCHEME = \"he_normal\"\n",
        "\n",
        "        self.conv_1 = Conv2D(self.__channels, strides=self.__strides[0],\n",
        "                             kernel_size=KERNEL_SIZE, padding=\"same\", kernel_initializer=INIT_SCHEME)\n",
        "        self.bn_1 = BatchNormalization()\n",
        "        self.conv_2 = Conv2D(self.__channels, strides=self.__strides[1],\n",
        "                             kernel_size=KERNEL_SIZE, padding=\"same\", kernel_initializer=INIT_SCHEME)\n",
        "        self.bn_2 = BatchNormalization()\n",
        "        self.merge = Add()\n",
        "\n",
        "        if self.__down_sample:\n",
        "            # perform down sampling using stride of 2, according to [1].\n",
        "            self.res_conv = Conv2D(\n",
        "                self.__channels, strides=2, kernel_size=(1, 1), kernel_initializer=INIT_SCHEME, padding=\"same\")\n",
        "            self.res_bn = BatchNormalization()\n",
        "\n",
        "    def call(self, inputs):\n",
        "        res = inputs\n",
        "\n",
        "        x = self.conv_1(inputs)\n",
        "        x = self.bn_1(x)\n",
        "        x = tf.nn.relu(x)\n",
        "        x = self.conv_2(x)\n",
        "        x = self.bn_2(x)\n",
        "\n",
        "        if self.__down_sample:\n",
        "            res = self.res_conv(res)\n",
        "            res = self.res_bn(res)\n",
        "\n",
        "        # if not perform down sample, then add a shortcut directly\n",
        "        x = self.merge([x, res])\n",
        "        out = tf.nn.relu(x)\n",
        "        return out\n",
        "\n",
        "\n",
        "class ResNet18(Model):\n",
        "\n",
        "    def __init__(self, num_classes, **kwargs):\n",
        "        \"\"\"\n",
        "            num_classes: number of classes in specific classification task.\n",
        "        \"\"\"\n",
        "        super().__init__(**kwargs)\n",
        "        self.conv_1 = Conv2D(64, (7, 7), strides=2,\n",
        "                             padding=\"same\", kernel_initializer=\"he_normal\")\n",
        "        self.init_bn = BatchNormalization()\n",
        "        self.pool_2 = MaxPool2D(pool_size=(2, 2), strides=2, padding=\"same\")\n",
        "        self.res_1_1 = ResnetBlock(64)\n",
        "        self.res_1_2 = ResnetBlock(64)\n",
        "        self.res_2_1 = ResnetBlock(128, down_sample=True)\n",
        "        self.res_2_2 = ResnetBlock(128)\n",
        "        self.res_3_1 = ResnetBlock(256, down_sample=True)\n",
        "        self.res_3_2 = ResnetBlock(256)\n",
        "        self.res_4_1 = ResnetBlock(512, down_sample=True)\n",
        "        self.res_4_2 = ResnetBlock(512)\n",
        "        self.avg_pool = GlobalAveragePooling2D()\n",
        "        self.flat = Flatten()\n",
        "        self.fc = Dense(num_classes, activation=\"softmax\")\n",
        "\n",
        "    def call(self, inputs):\n",
        "        out = self.conv_1(inputs)\n",
        "        out = self.init_bn(out)\n",
        "        out = tf.nn.relu(out)\n",
        "        out = self.pool_2(out)\n",
        "        for res_block in [self.res_1_1, self.res_1_2, self.res_2_1, self.res_2_2, self.res_3_1, self.res_3_2, self.res_4_1, self.res_4_2]:\n",
        "            out = res_block(out)\n",
        "        out = self.avg_pool(out)\n",
        "        out = self.flat(out)\n",
        "        out = self.fc(out)\n",
        "        return out"
      ],
      "metadata": {
        "id": "aczEbweTPXD5"
      },
      "execution_count": 14,
      "outputs": []
    },
    {
      "cell_type": "code",
      "source": [
        "model = ResNet18(2)\n",
        "model.build(input_shape = (None,img_height, img_width,3))\n",
        "\n",
        "callback = tf.keras.callbacks.EarlyStopping(monitor='val_loss', patience=3, mode='min')\n",
        "# This callback will stop the training when there is no improvement in\n",
        "# the loss for three consecutive epochs.\n",
        "\n",
        "model.compile(\n",
        "    loss=\"categorical_crossentropy\",\n",
        "    optimizer=tf.keras.optimizers.Adam(),\n",
        "    metrics=[\"accuracy\"])\n",
        "\n",
        "history = model.fit(train_generator,\n",
        "                      batch_size=BATCH_SIZE,\n",
        "                      epochs=EPOCHS,\n",
        "                      validation_data=test_generator,\n",
        "                      callbacks=[callback],\n",
        "                      shuffle=True)"
      ],
      "metadata": {
        "colab": {
          "base_uri": "https://localhost:8080/"
        },
        "id": "GEer0iivpvmp",
        "outputId": "1ed213e1-ed24-4ac6-b6fd-6dcdff4e9bc2"
      },
      "execution_count": null,
      "outputs": [
        {
          "output_type": "stream",
          "name": "stderr",
          "text": [
            "WARNING:tensorflow:AutoGraph could not transform <bound method ResnetBlock.call of <__main__.ResnetBlock object at 0x7fc03f0c1310>> and will run it as-is.\n",
            "Cause: mangled names are not yet supported\n",
            "To silence this warning, decorate the function with @tf.autograph.experimental.do_not_convert\n"
          ]
        },
        {
          "output_type": "stream",
          "name": "stdout",
          "text": [
            "WARNING: AutoGraph could not transform <bound method ResnetBlock.call of <__main__.ResnetBlock object at 0x7fc03f0c1310>> and will run it as-is.\n",
            "Cause: mangled names are not yet supported\n",
            "To silence this warning, decorate the function with @tf.autograph.experimental.do_not_convert\n",
            "Epoch 1/100\n",
            "50/50 [==============================] - 15s 249ms/step - loss: 1.0183 - accuracy: 0.5519 - val_loss: 192.5136 - val_accuracy: 0.5000\n",
            "Epoch 2/100\n",
            "50/50 [==============================] - 13s 255ms/step - loss: 0.6493 - accuracy: 0.6306 - val_loss: 0.7835 - val_accuracy: 0.5000\n",
            "Epoch 3/100\n",
            "50/50 [==============================] - 12s 238ms/step - loss: 0.6323 - accuracy: 0.6444 - val_loss: 0.7038 - val_accuracy: 0.5350\n",
            "Epoch 4/100\n",
            "50/50 [==============================] - 12s 238ms/step - loss: 0.6141 - accuracy: 0.6531 - val_loss: 0.8516 - val_accuracy: 0.5025\n",
            "Epoch 5/100\n",
            "50/50 [==============================] - 12s 236ms/step - loss: 0.5745 - accuracy: 0.6950 - val_loss: 0.6680 - val_accuracy: 0.6025\n",
            "Epoch 6/100\n",
            "50/50 [==============================] - 12s 237ms/step - loss: 0.5767 - accuracy: 0.7119 - val_loss: 1.4847 - val_accuracy: 0.5075\n",
            "Epoch 7/100\n",
            "50/50 [==============================] - 12s 238ms/step - loss: 0.5459 - accuracy: 0.7175 - val_loss: 0.7901 - val_accuracy: 0.6100\n",
            "Epoch 8/100\n",
            "50/50 [==============================] - 12s 238ms/step - loss: 0.5407 - accuracy: 0.7306 - val_loss: 0.7043 - val_accuracy: 0.5725\n"
          ]
        }
      ]
    },
    {
      "cell_type": "code",
      "source": [
        "plt.plot(history.history['loss'])\n",
        "plt.plot(history.history['val_loss'])\n",
        "plt.title('model loss')\n",
        "plt.ylabel('loss')\n",
        "plt.xlabel('epoch')\n",
        "plt.legend(['train', 'val'], loc='upper left')\n",
        "plt.show()"
      ],
      "metadata": {
        "colab": {
          "base_uri": "https://localhost:8080/",
          "height": 295
        },
        "id": "gepuGjE_qjcj",
        "outputId": "acf97912-c3cc-4c15-a12c-2985a4c6509e"
      },
      "execution_count": null,
      "outputs": [
        {
          "output_type": "display_data",
          "data": {
            "text/plain": [
              "<Figure size 432x288 with 1 Axes>"
            ],
            "image/png": "[encoded data removed]"
          },
          "metadata": {
            "needs_background": "light"
          }
        }
      ]
    },
    {
      "cell_type": "markdown",
      "source": [
        "## 5 Fold Cross Validation with Optuna (Model 4)"
      ],
      "metadata": {
        "id": "W9H1MzaPpZaE"
      }
    },
    {
      "cell_type": "code",
      "source": [
        "n_train_iter = 1\n",
        "def objective(trial):\n",
        "    # Parameters\n",
        "    batch_size = trial.suggest_int(\"batch_size\", 2, 8, step=2)\n",
        "    epochs = trial.suggest_int(\"epochs\", 10,50, step=10)\n",
        "    lr = trial.suggest_float(\"learning_rate\", 1e-5, 1e-2, log=True)\n",
        "    opt = trial.suggest_categorical(\"optimizer\", [Adam, SGD, RMSprop])\n",
        "\n",
        "    # Model\n",
        "    model = ResNet18(2) #class size\n",
        "    model.build(input_shape = (None,img_height, img_width,3))\n",
        "\n",
        "    for step in range(n_train_iter):\n",
        "        callback = tf.keras.callbacks.EarlyStopping(monitor='val_loss', patience=3, mode='min')\n",
        "        model3.compile(optimizer=opt(lr=lr), loss='categorical_crossentropy', metrics=['accuracy'])\n",
        "        H = model3.fit(train_generator,batch_size=batch_size,callbacks=[callback],\n",
        "                epochs=epochs,validation_data=test_generator,shuffle=True)\n",
        "        \n",
        "        val_loss, val_acc = model3.evaluate(test_generator)\n",
        "        trial.report(val_acc, step)\n",
        "\n",
        "        if trial.should_prune():\n",
        "            raise optuna.TrialPruned()\n",
        "    \n",
        "    return val_loss # optuna değerlendirmesini en küçük değere göre yapıyor o yüzden loss döndürdüm. Accuracy döndürdüğümde acc büyüdükçe bunu kötü bir şeymiş gibi algıladı.\n",
        "\n",
        "\n",
        "# Default Sampler is Tree-structured Parzen Estimator algorithm\n",
        "\n",
        "study = optuna.create_study()  # Create a new study.\n",
        "start = time.time()\n",
        "study.optimize(objective, n_trials=5)\n",
        "end = time.time()"
      ],
      "metadata": {
        "colab": {
          "base_uri": "https://localhost:8080/"
        },
        "id": "yzzNCS5fpZov",
        "outputId": "b85509c2-5231-4271-eab6-3d06b15b0cff"
      },
      "execution_count": null,
      "outputs": [
        {
          "output_type": "stream",
          "name": "stderr",
          "text": [
            "\u001b[32m[I 2022-12-25 12:30:01,601]\u001b[0m A new study created in memory with name: no-name-d5fe5dec-840d-473d-9a68-7b80fc563014\u001b[0m\n"
          ]
        },
        {
          "output_type": "stream",
          "name": "stdout",
          "text": [
            "Epoch 1/10\n",
            "50/50 [==============================] - 11s 204ms/step - loss: 0.3609 - accuracy: 0.8269 - val_loss: 0.5894 - val_accuracy: 0.7150\n",
            "Epoch 2/10\n",
            "50/50 [==============================] - 10s 196ms/step - loss: 0.2671 - accuracy: 0.8919 - val_loss: 0.5954 - val_accuracy: 0.7200\n",
            "Epoch 3/10\n",
            "50/50 [==============================] - 10s 198ms/step - loss: 0.2225 - accuracy: 0.9094 - val_loss: 1.0155 - val_accuracy: 0.6900\n",
            "Epoch 4/10\n",
            "50/50 [==============================] - 10s 196ms/step - loss: 0.2317 - accuracy: 0.9000 - val_loss: 0.7871 - val_accuracy: 0.6950\n",
            "13/13 [==============================] - 2s 144ms/step - loss: 0.7871 - accuracy: 0.6950\n"
          ]
        },
        {
          "output_type": "stream",
          "name": "stderr",
          "text": [
            "\u001b[32m[I 2022-12-25 12:30:44,637]\u001b[0m Trial 0 finished with value: 0.787060558795929 and parameters: {'batch_size': 8, 'epochs': 10, 'learning_rate': 0.00210004628570549, 'optimizer': <class 'keras.optimizers.optimizer_v2.adam.Adam'>}. Best is trial 0 with value: 0.787060558795929.\u001b[0m\n"
          ]
        },
        {
          "output_type": "stream",
          "name": "stdout",
          "text": [
            "Epoch 1/40\n",
            "50/50 [==============================] - 11s 216ms/step - loss: 0.2161 - accuracy: 0.9062 - val_loss: 0.7590 - val_accuracy: 0.7200\n",
            "Epoch 2/40\n",
            "50/50 [==============================] - 11s 218ms/step - loss: 0.1915 - accuracy: 0.9219 - val_loss: 0.7440 - val_accuracy: 0.7200\n",
            "Epoch 3/40\n",
            "50/50 [==============================] - 10s 200ms/step - loss: 0.1871 - accuracy: 0.9212 - val_loss: 0.7360 - val_accuracy: 0.7075\n",
            "Epoch 4/40\n",
            "50/50 [==============================] - 10s 199ms/step - loss: 0.1933 - accuracy: 0.9169 - val_loss: 0.7294 - val_accuracy: 0.7150\n",
            "Epoch 5/40\n",
            "50/50 [==============================] - 10s 200ms/step - loss: 0.1802 - accuracy: 0.9319 - val_loss: 0.7270 - val_accuracy: 0.7100\n",
            "Epoch 6/40\n",
            "50/50 [==============================] - 10s 198ms/step - loss: 0.1792 - accuracy: 0.9400 - val_loss: 0.7257 - val_accuracy: 0.7075\n",
            "Epoch 7/40\n",
            "50/50 [==============================] - 10s 199ms/step - loss: 0.1764 - accuracy: 0.9319 - val_loss: 0.7256 - val_accuracy: 0.7050\n",
            "Epoch 8/40\n",
            "50/50 [==============================] - 10s 199ms/step - loss: 0.1646 - accuracy: 0.9438 - val_loss: 0.7263 - val_accuracy: 0.7025\n",
            "Epoch 9/40\n",
            "50/50 [==============================] - 10s 200ms/step - loss: 0.1694 - accuracy: 0.9388 - val_loss: 0.7267 - val_accuracy: 0.7000\n",
            "Epoch 10/40\n",
            "50/50 [==============================] - 10s 198ms/step - loss: 0.1696 - accuracy: 0.9375 - val_loss: 0.7273 - val_accuracy: 0.7025\n",
            "13/13 [==============================] - 2s 144ms/step - loss: 0.7273 - accuracy: 0.7025\n"
          ]
        },
        {
          "output_type": "stream",
          "name": "stderr",
          "text": [
            "\u001b[32m[I 2022-12-25 12:32:29,537]\u001b[0m Trial 1 finished with value: 0.7272949814796448 and parameters: {'batch_size': 8, 'epochs': 40, 'learning_rate': 9.882937502372152e-05, 'optimizer': <class 'keras.optimizers.optimizer_v2.gradient_descent.SGD'>}. Best is trial 1 with value: 0.7272949814796448.\u001b[0m\n"
          ]
        },
        {
          "output_type": "stream",
          "name": "stdout",
          "text": [
            "Epoch 1/30\n",
            "50/50 [==============================] - 11s 204ms/step - loss: 0.1388 - accuracy: 0.9425 - val_loss: 0.8089 - val_accuracy: 0.7350\n",
            "Epoch 2/30\n",
            "50/50 [==============================] - 10s 199ms/step - loss: 0.0899 - accuracy: 0.9681 - val_loss: 0.9074 - val_accuracy: 0.7500\n",
            "Epoch 3/30\n",
            "50/50 [==============================] - 10s 201ms/step - loss: 0.0706 - accuracy: 0.9769 - val_loss: 0.9868 - val_accuracy: 0.7450\n",
            "Epoch 4/30\n",
            "50/50 [==============================] - 10s 203ms/step - loss: 0.0544 - accuracy: 0.9806 - val_loss: 1.1093 - val_accuracy: 0.7450\n",
            "13/13 [==============================] - 2s 143ms/step - loss: 1.1093 - accuracy: 0.7450\n"
          ]
        },
        {
          "output_type": "stream",
          "name": "stderr",
          "text": [
            "\u001b[32m[I 2022-12-25 12:33:13,534]\u001b[0m Trial 2 finished with value: 1.1092941761016846 and parameters: {'batch_size': 6, 'epochs': 30, 'learning_rate': 0.00035135443215579066, 'optimizer': <class 'keras.optimizers.optimizer_v2.rmsprop.RMSprop'>}. Best is trial 1 with value: 0.7272949814796448.\u001b[0m\n"
          ]
        },
        {
          "output_type": "stream",
          "name": "stdout",
          "text": [
            "Epoch 1/20\n",
            "50/50 [==============================] - 11s 204ms/step - loss: 0.1023 - accuracy: 0.9631 - val_loss: 1.0842 - val_accuracy: 0.7275\n",
            "Epoch 2/20\n",
            "50/50 [==============================] - 11s 218ms/step - loss: 0.0829 - accuracy: 0.9725 - val_loss: 0.9253 - val_accuracy: 0.7275\n",
            "Epoch 3/20\n",
            "50/50 [==============================] - 10s 197ms/step - loss: 0.0523 - accuracy: 0.9794 - val_loss: 1.1969 - val_accuracy: 0.7300\n",
            "Epoch 4/20\n",
            "50/50 [==============================] - 10s 196ms/step - loss: 0.0501 - accuracy: 0.9812 - val_loss: 1.3127 - val_accuracy: 0.7400\n",
            "Epoch 5/20\n",
            "50/50 [==============================] - 10s 197ms/step - loss: 0.0631 - accuracy: 0.9800 - val_loss: 1.1409 - val_accuracy: 0.7500\n",
            "13/13 [==============================] - 2s 141ms/step - loss: 1.1409 - accuracy: 0.7500\n"
          ]
        },
        {
          "output_type": "stream",
          "name": "stderr",
          "text": [
            "\u001b[32m[I 2022-12-25 12:34:07,510]\u001b[0m Trial 3 finished with value: 1.1409077644348145 and parameters: {'batch_size': 2, 'epochs': 20, 'learning_rate': 0.0010398632900686234, 'optimizer': <class 'keras.optimizers.optimizer_v2.adam.Adam'>}. Best is trial 1 with value: 0.7272949814796448.\u001b[0m\n"
          ]
        },
        {
          "output_type": "stream",
          "name": "stdout",
          "text": [
            "Epoch 1/50\n",
            "50/50 [==============================] - 11s 202ms/step - loss: 0.0279 - accuracy: 0.9906 - val_loss: 1.2261 - val_accuracy: 0.7575\n",
            "Epoch 2/50\n",
            "50/50 [==============================] - 10s 198ms/step - loss: 0.0264 - accuracy: 0.9937 - val_loss: 1.2622 - val_accuracy: 0.7600\n",
            "Epoch 3/50\n",
            "50/50 [==============================] - 10s 199ms/step - loss: 0.0220 - accuracy: 0.9969 - val_loss: 1.2971 - val_accuracy: 0.7525\n",
            "Epoch 4/50\n",
            "50/50 [==============================] - 10s 200ms/step - loss: 0.0208 - accuracy: 0.9931 - val_loss: 1.3247 - val_accuracy: 0.7500\n",
            "13/13 [==============================] - 2s 145ms/step - loss: 1.3247 - accuracy: 0.7500\n"
          ]
        },
        {
          "output_type": "stream",
          "name": "stderr",
          "text": [
            "\u001b[32m[I 2022-12-25 12:34:51,081]\u001b[0m Trial 4 finished with value: 1.3247361183166504 and parameters: {'batch_size': 6, 'epochs': 50, 'learning_rate': 3.948065513109135e-05, 'optimizer': <class 'keras.optimizers.optimizer_v2.rmsprop.RMSprop'>}. Best is trial 1 with value: 0.7272949814796448.\u001b[0m\n"
          ]
        }
      ]
    },
    {
      "cell_type": "code",
      "source": [
        "study.best_trial"
      ],
      "metadata": {
        "colab": {
          "base_uri": "https://localhost:8080/"
        },
        "id": "fafmOJFw4CgJ",
        "outputId": "2ebf3bb5-d304-4081-8c0c-254540cc8832"
      },
      "execution_count": null,
      "outputs": [
        {
          "output_type": "execute_result",
          "data": {
            "text/plain": [
              "FrozenTrial(number=1, values=[0.7272949814796448], datetime_start=datetime.datetime(2022, 12, 25, 12, 30, 44, 641619), datetime_complete=datetime.datetime(2022, 12, 25, 12, 32, 29, 537052), params={'batch_size': 8, 'epochs': 40, 'learning_rate': 9.882937502372152e-05, 'optimizer': <class 'keras.optimizers.optimizer_v2.gradient_descent.SGD'>}, distributions={'batch_size': IntDistribution(high=8, log=False, low=2, step=2), 'epochs': IntDistribution(high=50, log=False, low=10, step=10), 'learning_rate': FloatDistribution(high=0.01, log=True, low=1e-05, step=None), 'optimizer': CategoricalDistribution(choices=(<class 'keras.optimizers.optimizer_v2.adam.Adam'>, <class 'keras.optimizers.optimizer_v2.gradient_descent.SGD'>, <class 'keras.optimizers.optimizer_v2.rmsprop.RMSprop'>))}, user_attrs={}, system_attrs={}, intermediate_values={0: 0.7024999856948853}, trial_id=1, state=TrialState.COMPLETE, value=None)"
            ]
          },
          "metadata": {},
          "execution_count": 86
        }
      ]
    },
    {
      "cell_type": "code",
      "source": [
        "#params={'batch_size': 8, 'epochs': 40, 'learning_rate': 9.882937502372152e-05, 'optimizer': <class 'keras.optimizers.optimizer_v2.gradient_descent.SGD'>}\n",
        "model = ResNet18(2) #class size\n",
        "model.build(input_shape = (None,img_height, img_width,3))\n",
        "\n",
        "callback = tf.keras.callbacks.EarlyStopping(monitor='val_loss', patience=3, mode='min')\n",
        "model3.compile(optimizer=SGD(lr=9.882937502372152e-05), loss='categorical_crossentropy', metrics=['accuracy'])\n",
        "H = model3.fit(train_generator,batch_size=8,callbacks=[callback],\n",
        "        epochs=40,validation_data=test_generator,shuffle=True)\n",
        "\n",
        "plt.plot(H.history['loss'])\n",
        "plt.plot(H.history['val_loss'])\n",
        "plt.title('model loss')\n",
        "plt.ylabel('loss')\n",
        "plt.xlabel('epoch')\n",
        "plt.legend(['train', 'val'], loc='upper left')\n",
        "plt.show()"
      ],
      "metadata": {
        "colab": {
          "base_uri": "https://localhost:8080/",
          "height": 791
        },
        "id": "CxxBJHiA24PI",
        "outputId": "8e394b93-346d-420a-c1fc-78a44db9e944"
      },
      "execution_count": 15,
      "outputs": [
        {
          "output_type": "stream",
          "name": "stderr",
          "text": [
            "WARNING:tensorflow:AutoGraph could not transform <bound method ResnetBlock.call of <__main__.ResnetBlock object at 0x7fb7dc0b03d0>> and will run it as-is.\n",
            "Cause: mangled names are not yet supported\n",
            "To silence this warning, decorate the function with @tf.autograph.experimental.do_not_convert\n"
          ]
        },
        {
          "output_type": "stream",
          "name": "stdout",
          "text": [
            "WARNING: AutoGraph could not transform <bound method ResnetBlock.call of <__main__.ResnetBlock object at 0x7fb7dc0b03d0>> and will run it as-is.\n",
            "Cause: mangled names are not yet supported\n",
            "To silence this warning, decorate the function with @tf.autograph.experimental.do_not_convert\n"
          ]
        },
        {
          "output_type": "stream",
          "name": "stderr",
          "text": [
            "/usr/local/lib/python3.8/dist-packages/keras/optimizers/optimizer_v2/gradient_descent.py:108: UserWarning: The `lr` argument is deprecated, use `learning_rate` instead.\n",
            "  super(SGD, self).__init__(name, **kwargs)\n"
          ]
        },
        {
          "output_type": "stream",
          "name": "stdout",
          "text": [
            "Epoch 1/40\n",
            "50/50 [==============================] - 11s 209ms/step - loss: 0.4205 - accuracy: 0.8194 - val_loss: 0.5457 - val_accuracy: 0.7175\n",
            "Epoch 2/40\n",
            "50/50 [==============================] - 11s 216ms/step - loss: 0.4083 - accuracy: 0.8250 - val_loss: 0.5422 - val_accuracy: 0.7225\n",
            "Epoch 3/40\n",
            "50/50 [==============================] - 10s 201ms/step - loss: 0.4023 - accuracy: 0.8206 - val_loss: 0.5400 - val_accuracy: 0.7225\n",
            "Epoch 4/40\n",
            "50/50 [==============================] - 10s 201ms/step - loss: 0.4083 - accuracy: 0.8200 - val_loss: 0.5394 - val_accuracy: 0.7225\n",
            "Epoch 5/40\n",
            "50/50 [==============================] - 10s 203ms/step - loss: 0.4026 - accuracy: 0.8319 - val_loss: 0.5399 - val_accuracy: 0.7225\n",
            "Epoch 6/40\n",
            "50/50 [==============================] - 10s 206ms/step - loss: 0.4083 - accuracy: 0.8138 - val_loss: 0.5390 - val_accuracy: 0.7275\n",
            "Epoch 7/40\n",
            "50/50 [==============================] - 10s 205ms/step - loss: 0.4086 - accuracy: 0.8206 - val_loss: 0.5385 - val_accuracy: 0.7250\n",
            "Epoch 8/40\n",
            "50/50 [==============================] - 10s 206ms/step - loss: 0.3997 - accuracy: 0.8269 - val_loss: 0.5387 - val_accuracy: 0.7250\n",
            "Epoch 9/40\n",
            "50/50 [==============================] - 10s 206ms/step - loss: 0.4065 - accuracy: 0.8238 - val_loss: 0.5390 - val_accuracy: 0.7275\n",
            "Epoch 10/40\n",
            "50/50 [==============================] - 10s 206ms/step - loss: 0.4040 - accuracy: 0.8225 - val_loss: 0.5392 - val_accuracy: 0.7300\n"
          ]
        },
        {
          "output_type": "display_data",
          "data": {
            "text/plain": [
              "<Figure size 432x288 with 1 Axes>"
            ],
            "image/png": "[encoded data removed]"
          },
          "metadata": {
            "needs_background": "light"
          }
        }
      ]
    },
    {
      "cell_type": "code",
      "source": [],
      "metadata": {
        "id": "goRvI_kD3TnV"
      },
      "execution_count": null,
      "outputs": []
    }
  ]
}